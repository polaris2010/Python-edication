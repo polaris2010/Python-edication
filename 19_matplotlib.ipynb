{
  "cells": [
    {
      "cell_type": "markdown",
      "source": [
        "# Наука о данных\n",
        "\n",
        "\n",
        "<img src=\"https://www.python.org/static/community_logos/python-logo-master-v3-TM.png\" align=\"right\" style=\"height: 200px;\"/>"
      ],
      "metadata": {
        "id": "Hbbnl-ENj9I-"
      }
    },
    {
      "cell_type": "markdown",
      "metadata": {
        "id": "LlmAifELkU13"
      },
      "source": [
        "# Занятие 16. Визуализация данных. Matplotlib"
      ]
    },
    {
      "cell_type": "markdown",
      "metadata": {
        "id": "AgXugZ91aYBe"
      },
      "source": [
        "# Почему важно смотреть на данные"
      ]
    },
    {
      "cell_type": "markdown",
      "metadata": {
        "id": "xytxZrnLaV1O"
      },
      "source": [
        "![](https://alexanderdyakonov.files.wordpress.com/2017/11/d0bad180d0bed0bbd0b8d0ba_d183d182d0bad0b0.jpg)"
      ]
    },
    {
      "cell_type": "markdown",
      "source": [
        "Нельзя используя лишь статистические величины делать выводы о данных!"
      ],
      "metadata": {
        "id": "dPab1QZxfTBq"
      }
    },
    {
      "cell_type": "markdown",
      "source": [
        "Пример - [Квартет Энскомба](https://ru.wikipedia.org/wiki/%D0%9A%D0%B2%D0%B0%D1%80%D1%82%D0%B5%D1%82_%D0%AD%D0%BD%D1%81%D0%BA%D0%BE%D0%BC%D0%B1%D0%B0):"
      ],
      "metadata": {
        "id": "9tqOUCzBfc1A"
      }
    },
    {
      "cell_type": "code",
      "source": [
        "import numpy as np\n",
        "\n",
        "x = [10, 8, 13, 9, 11, 14, 6, 4, 12, 7, 5]\n",
        "y1 = [8.04, 6.95, 7.58, 8.81, 8.33, 9.96, 7.24, 4.26, 10.84, 4.82, 5.68]\n",
        "y2 = [9.14, 8.14, 8.74, 8.77, 9.26, 8.10, 6.13, 3.10, 9.13, 7.26, 4.74]\n",
        "y3 = [7.46, 6.77, 12.74, 7.11, 7.81, 8.84, 6.08, 5.39, 8.15, 6.42, 5.73]\n",
        "x4 = [8, 8, 8, 8, 8, 8, 8, 19, 8, 8, 8]\n",
        "y4 = [6.58, 5.76, 7.71, 8.84, 8.47, 7.04, 5.25, 12.50, 5.56, 7.91, 6.89]\n",
        "\n",
        "datasets = {\n",
        "    '1': (x, y1),\n",
        "    '2': (x, y2),\n",
        "    '3': (x, y3),\n",
        "    '4': (x4, y4)\n",
        "}"
      ],
      "metadata": {
        "id": "2o3mdrsHfgAC"
      },
      "execution_count": null,
      "outputs": []
    },
    {
      "cell_type": "code",
      "source": [
        "x, y1"
      ],
      "metadata": {
        "id": "I6zMcxnky9jC"
      },
      "execution_count": null,
      "outputs": []
    },
    {
      "cell_type": "code",
      "source": [
        "for label, (x, y) in datasets.items():\n",
        "    print(f\"Dataset {label}: N={len(x)}, x_mean={np.mean(x):.3f}, y_mean={np.mean(y):.3f}, x_std={np.std(x):.3f}, y_std={np.std(y):.3f}, r={np.corrcoef(x, y)[0][1]:.3f}\")"
      ],
      "metadata": {
        "id": "Wh69_A3Vfpgr"
      },
      "execution_count": null,
      "outputs": []
    },
    {
      "cell_type": "markdown",
      "source": [
        "Получили крайне близкие значения. Означает ли, что это наборы данных несут в себе одинаковые зависимости (выбраны из одного распределения)?"
      ],
      "metadata": {
        "id": "ZrcqL3dege0q"
      }
    },
    {
      "cell_type": "markdown",
      "source": [
        "Посмотрим на график этих датасетов:"
      ],
      "metadata": {
        "id": "CNf3Hw1agrno"
      }
    },
    {
      "cell_type": "markdown",
      "metadata": {
        "id": "5PLwUpw0aNMS"
      },
      "source": [
        "![](https://d1jnx9ba8s6j9r.cloudfront.net/blog/wp-content/uploads/2018/01/Anscombes_quartet_2.png)"
      ]
    },
    {
      "cell_type": "markdown",
      "metadata": {
        "id": "DbQC2OHxZ90-"
      },
      "source": [
        "Видим кардинально разные зависимости, у которых при этом одинаковые статистические величины. С ними нужно работать по разному:\n",
        "- набор 1: хорошо описывается линейной зависимостью\n",
        "- набор 2: плохо описывается линейной зависимостью, скорее всего полином (парабола, полином 2й степени)\n",
        "- набор 3: явный выброс, который плохо описывается линейной зависимостью\n",
        "- набор 4: еще один выброс в данных, плохо ложится на линейную зависимость"
      ]
    },
    {
      "cell_type": "markdown",
      "metadata": {
        "id": "wcPdYc4D8Oop"
      },
      "source": [
        "# Matplotlib"
      ]
    },
    {
      "cell_type": "markdown",
      "metadata": {
        "id": "ms_unw5d8Oos"
      },
      "source": [
        "**Matplotlib** - Python-библиотека для двумерной графики, созданная в 2003 году как альтернатива платному MATLAB'y. Проект оказался настолько успешным, что matplotlib является стандартом для двумерной графики в анализе данных на python. Используя matplotlib можно нарисовать очень сложные графики, поэтому порог входа у него высокий. Для простых графиков есть удобные обертки, но кастомизация требует понимания деталей."
      ]
    },
    {
      "cell_type": "markdown",
      "metadata": {
        "id": "m-NXd3Qd8Oor"
      },
      "source": [
        "## 1. Введение"
      ]
    },
    {
      "cell_type": "code",
      "metadata": {
        "id": "isy5anVH8Oot"
      },
      "source": [
        "import matplotlib as mpl  # стандартный алиас для matplotlib"
      ],
      "execution_count": null,
      "outputs": []
    },
    {
      "cell_type": "markdown",
      "metadata": {
        "id": "gfgVRNhk8Oot"
      },
      "source": [
        "Matplotlib состоит из множетства модулей и классов. Рисование в matplotlib состоит из последовательного нанесения объектов на холст. Объекты образуют иерархическую структуру. Задача пользователя описать эту структуру, а рисованием займется сама библиотека."
      ]
    },
    {
      "cell_type": "markdown",
      "metadata": {
        "id": "Z6CBMt-18Oou"
      },
      "source": [
        "Рисунок в matplotlib имеет следующую структуру.\n",
        "1. объект рисунок (Figure)\n",
        "2. в рисунке - холст(Canvas)\n",
        "3. на холсте - области рисования (Axes).\n",
        "4. в областях рисования - элементы рисунка (Artists)\n",
        "\n",
        "Обычные пользователи большую часть времени занимаются тем что работают с элементами рисунка располагая их в нужном порядке на областях рисования."
      ]
    },
    {
      "cell_type": "markdown",
      "source": [
        "Элементы рисунка (Artists) можно разделить на две большие группы\n",
        "\n",
        " - **Примитивы** - простейшие элементы рисунка, такие как линии, прямоугольники, текст, изображения и т.д.\n",
        " - **Контейнеры** - рисунок (Figure), область рисования (Axes), координатные оси (Axis), деления на осях (Ticks).  "
      ],
      "metadata": {
        "id": "X3oOGXiTiSFf"
      }
    },
    {
      "cell_type": "markdown",
      "metadata": {
        "id": "SKj7xeDV8Oou"
      },
      "source": [
        "Библиотека манипулирует очень простыми графическими примитивами (линия, точка, отрезок, многоугольник).\n",
        "\n",
        "Это совершенно неудобоно для людей - они мыслят высокоуровневыми абстракциями. Поэтому в matplotlib есть две обертки:\n",
        "- **pylab** - \"неудачный эксперимент\", не используйте ее\n",
        "- **pyplot** - \"стандарт\"\n",
        "\n",
        "Подробнее про это - в [документации](https://matplotlib.org/2.0.2/faq/usage_faq.html#matplotlib-pyplot-and-pylab-how-are-they-related)."
      ]
    },
    {
      "cell_type": "code",
      "metadata": {
        "id": "28ZjDcUj8Oov"
      },
      "source": [
        "import matplotlib.pyplot as plt  # стандартный алиас для pyplot"
      ],
      "execution_count": null,
      "outputs": []
    },
    {
      "cell_type": "markdown",
      "metadata": {
        "id": "nqjqnOzQ8Oow"
      },
      "source": [
        "Для того чтобы рисунки выводились в графический интерфейс надо вызвать [магическую команду](https://ipython.readthedocs.io/en/stable/interactive/magics.html) для jupyter"
      ]
    },
    {
      "cell_type": "code",
      "metadata": {
        "id": "OQ-R5wFZ8Oow"
      },
      "source": [
        "# (!) С какого-то релиза стала необязательной\n",
        "%matplotlib inline"
      ],
      "execution_count": null,
      "outputs": []
    },
    {
      "cell_type": "markdown",
      "metadata": {
        "id": "kvTEy4fA8Oox"
      },
      "source": [
        "Также нам очень пригодится библиотека numpy для работы с многомерными массивами. С ее помощью можно быстро поэлементно применять математические функции и генерировать массивы."
      ]
    },
    {
      "cell_type": "code",
      "metadata": {
        "id": "bBNeHi_P8Oox"
      },
      "source": [
        "import numpy as np"
      ],
      "execution_count": null,
      "outputs": []
    },
    {
      "cell_type": "code",
      "metadata": {
        "id": "e2laE9ep8Ooy"
      },
      "source": [
        "# создать рисунок гистограммы из 20 рандомных целых чисел в диапазоне [0, 6)\n",
        "\n",
        "array = np.random.randint(low=0, high=6, size=100)\n",
        "print(\"array:\", array)\n",
        "\n",
        "# Задаем размер графика\n",
        "plt.figure(figsize = (5, 5))\n",
        "\n",
        "# Функция которая строить гистограму\n",
        "plt.hist(\n",
        "         array, # список элементов, частоты которого будут подсчитываться\n",
        "         bins=30, # количество столбцов в графике\n",
        "        )\n",
        "\n",
        "# Подписать график\n",
        "plt.title(\"Распределение значений из randint\",fontsize=16)\n",
        "# Подписать оси\n",
        "plt.ylabel(\"Количество элементов\", fontsize=13)\n",
        "plt.xlabel(\"Значение элемента\", fontsize=13)\n",
        "# Показать сетку\n",
        "plt.grid()\n",
        "# Сохранить ПОСЛЕДНИЙ созданный рисунок\n",
        "plt.savefig('hist.png')\n",
        "# показать ВСЕ созданные рисунки\n",
        "plt.show()"
      ],
      "execution_count": null,
      "outputs": []
    },
    {
      "cell_type": "markdown",
      "metadata": {
        "id": "2NXJv5iY8Ooz"
      },
      "source": [
        "При вызове этих команд произошло приблизительно следующее:\n",
        "1. Был создан рисунок (Figure).\n",
        "2. В нем была создана одна область рисования (Axes).\n",
        "3. На эту область были помещены оси X и Y (Axis) и 10 синих прямоугольников (Rectangle) 4 из которых нулевой высоты.\n",
        "4. После этого у объекта рисунка вызвали методы savefig и show."
      ]
    },
    {
      "cell_type": "markdown",
      "metadata": {
        "id": "hQx7kVMU8Ooz"
      },
      "source": [
        "## 2. Основные функции модуля `matplotlib.pyplot`"
      ]
    },
    {
      "cell_type": "markdown",
      "metadata": {
        "id": "KGwu2rQv8Oo0"
      },
      "source": [
        "Далее мы перечислим самые часто используемые функции из модуля matplotlib.pyplot. Примеры будут минималистичны, все настройки будут по умолчанию."
      ]
    },
    {
      "cell_type": "markdown",
      "metadata": {
        "id": "7XXk48wM8Oo0"
      },
      "source": [
        "### 2.1 Примитивы"
      ]
    },
    {
      "cell_type": "markdown",
      "source": [
        "Отрисовка множества точек на графике. Aka scatter."
      ],
      "metadata": {
        "id": "7zS1cKZQkgvF"
      }
    },
    {
      "cell_type": "code",
      "source": [
        "# создать рисунок гистограммы из 20 рандомных целых чисел в диапазоне [0, 6)\n",
        "\n",
        "x = np.arange(0, 10.5, 0.25)\n",
        "y = np.cos(x)\n",
        "\n",
        "# Задаем размер графика\n",
        "plt.figure(figsize = (16, 9))\n",
        "\n",
        "# Функция которая строить точки\n",
        "plt.scatter(\n",
        "            x, # значения оси абцисс\n",
        "            y, # значения оси ординат\n",
        "            s=200, # scale маштаб точек\n",
        "            c='red', # color цвет точек\n",
        "            marker='*', # тип точки\n",
        "            alpha=0.5, # прозрачность точки\n",
        "            edgecolors='blue', # цвет границы\n",
        "           )\n",
        "\n",
        "# Подписать график\n",
        "plt.title(\"Точки из функции Cos($\\\\theta$)\",fontsize=16)\n",
        "# Подписать оси\n",
        "plt.ylabel(\"Значение cos\", fontsize=13)\n",
        "plt.xlabel(\"Угол $\\\\theta$\", fontsize=13) # отметим что можно использовать LATEX формулы\n",
        "# Показать сетку\n",
        "plt.grid()\n",
        "# показать ВСЕ созданные рисунки\n",
        "plt.show()"
      ],
      "metadata": {
        "id": "cAE-mIng1E8I"
      },
      "execution_count": null,
      "outputs": []
    },
    {
      "cell_type": "markdown",
      "source": [
        "Ломаная линия:"
      ],
      "metadata": {
        "id": "BihAjACPk3fS"
      }
    },
    {
      "cell_type": "code",
      "metadata": {
        "id": "08YCUZPo8Oo1"
      },
      "source": [
        "plt.figure(figsize=(16,9))\n",
        "\n",
        "plt.plot(\n",
        "    x,  # абсциссы точек\n",
        "    np.sin(x),  # ординаты точек\n",
        "    label='$\\\\sin(x)$'\n",
        ")\n",
        "\n",
        "\n",
        "plt.plot(\n",
        "    x,\n",
        "    np.sin(x + 0.7),\n",
        "    'r--',\n",
        "    label='$\\\\sin(x + 0.7)$'\n",
        ")\n",
        "\n",
        "# установить легенду\n",
        "plt.legend(fontsize=14)\n",
        "\n",
        "# Подписать график\n",
        "plt.title(\"Точки из функции Sin($\\\\theta$)\",fontsize=16)\n",
        "# Подписать оси\n",
        "plt.ylabel(\"Значение sin\", fontsize=13)\n",
        "plt.xlabel(\"Угол $\\\\theta$\", fontsize=13) # отметим что можно использовать LATEX формулы\n",
        "# Показать сетку\n",
        "plt.grid()\n",
        "# показать ВСЕ созданные рисунки\n",
        "plt.show()"
      ],
      "execution_count": null,
      "outputs": []
    },
    {
      "cell_type": "markdown",
      "source": [
        "Заплатки (патчи, [patches](https://matplotlib.org/3.1.1/api/patches_api.html)):"
      ],
      "metadata": {
        "id": "LGnYBJvskq4a"
      }
    },
    {
      "cell_type": "code",
      "metadata": {
        "id": "Ih8-tLye8Oo0"
      },
      "source": [
        "import matplotlib.patches as mpatches\n",
        "\n",
        "\n",
        "figure, ax = plt.subplots(1, figsize=(16,9))\n",
        "\n",
        "# создаем объект заплатки\n",
        "rect1 = mpatches.Rectangle(\n",
        "                            (0, 0), # Координаты левого нижнего угла\n",
        "                            4, # ширина\n",
        "                            1.2, # высота\n",
        "                            edgecolor='r', # цвет границы\n",
        "                            facecolor=\"b\", # цвет заливки\n",
        "                            alpha=0.45\n",
        "                          )\n",
        "rect2 = mpatches.Rectangle((3, 0), 6, 1.2, edgecolor='b', facecolor=\"g\", alpha=0.45)\n",
        "\n",
        "\n",
        "ax.scatter(\n",
        "    x, y\n",
        ")\n",
        "\n",
        "ax.add_patch(rect2)\n",
        "ax.add_patch(rect1)\n",
        "\n",
        "\n",
        "plt.show()"
      ],
      "execution_count": null,
      "outputs": []
    },
    {
      "cell_type": "markdown",
      "source": [
        "Текст:"
      ],
      "metadata": {
        "id": "Fx5yIH-jk5re"
      }
    },
    {
      "cell_type": "code",
      "metadata": {
        "id": "wKbr3CB48Oo1"
      },
      "source": [
        "plt.figure(figsize=(16,9))\n",
        "\n",
        "plt.text(\n",
        "    0.5,  # Абсцисса начала текста в координатах графика\n",
        "    0.5,  # Ордината начала текста в координатах графика\n",
        "    'Billboard spot'  # собственно ваш текст\n",
        ")\n",
        "plt.scatter(\n",
        "    [0.5],\n",
        "    [0.5]\n",
        ")\n",
        "\n",
        "plt.grid()\n",
        "plt.show()"
      ],
      "execution_count": null,
      "outputs": []
    },
    {
      "cell_type": "markdown",
      "metadata": {
        "id": "MUYHyIt38Oo2"
      },
      "source": [
        "### 2.2. Диаграммы"
      ]
    },
    {
      "cell_type": "markdown",
      "source": [
        "Столбцовая диаграмма:"
      ],
      "metadata": {
        "id": "EQlY77_ck_IW"
      }
    },
    {
      "cell_type": "code",
      "metadata": {
        "id": "OemagJSv8Oo2"
      },
      "source": [
        "fruits = [\"apple\", \"peach\", \"orange\", \"bannana\", \"melon\"]\n",
        "counts = [34, 25, 43, 31, 17]\n",
        "\n",
        "plt.bar(fruits, counts)\n",
        "\n",
        "plt.title(\"Fruits!\")\n",
        "plt.xlabel(\"Fruit\")\n",
        "plt.ylabel(\"Count\")"
      ],
      "execution_count": null,
      "outputs": []
    },
    {
      "cell_type": "markdown",
      "source": [
        "Гистограмма:"
      ],
      "metadata": {
        "id": "cdQZh6fTlFdj"
      }
    },
    {
      "cell_type": "markdown",
      "source": [
        "Круговая диаграмма:"
      ],
      "metadata": {
        "id": "L1DQ8dkLlJ8S"
      }
    },
    {
      "cell_type": "code",
      "metadata": {
        "id": "mZeeSI6q8Oo3"
      },
      "source": [
        "plt.pie(\n",
        "    counts,\n",
        "    labels=fruits\n",
        ")\n",
        "\n",
        "plt.title(\"Fruits!\")\n",
        "\n",
        "plt.show()"
      ],
      "execution_count": null,
      "outputs": []
    },
    {
      "cell_type": "markdown",
      "source": [
        "[Ящик с усами](https://ru.wikipedia.org/wiki/%D0%AF%D1%89%D0%B8%D0%BA_%D1%81_%D1%83%D1%81%D0%B0%D0%BC%D0%B8):\n",
        "- ящик показывает диапазон от 25 до 75 квантиля (1й и 3й квартили)\n",
        "- черта в ящике - медиана\n",
        "- усы - квартили +- 1.5 межквартильного размаха (IQR)\n",
        "- круглые точки - \"выбросы\""
      ],
      "metadata": {
        "id": "p74_TRClloXs"
      }
    },
    {
      "cell_type": "code",
      "metadata": {
        "id": "7MuDZfSw8Oo3"
      },
      "source": [
        "sett = np.concatenate([np.random.randint(-100, 100, 50), np.array([-250, 300]) ])\n",
        "\n",
        "plt.figure(figsize=(16,9))\n",
        "\n",
        "plt.boxplot(sett)\n",
        "\n",
        "plt.grid(True, which='both')\n",
        "plt.show()"
      ],
      "execution_count": null,
      "outputs": []
    },
    {
      "cell_type": "markdown",
      "source": [
        "Ломаная с \"крестами ошибок\" - в каждой точке графика откладываются ошибки измерений по абсциссе и ординате:"
      ],
      "metadata": {
        "id": "sRQDY6fMmTG7"
      }
    },
    {
      "cell_type": "code",
      "metadata": {
        "id": "U04wN1kj8Oo4"
      },
      "source": [
        "plt.figure(figsize=(16,9))\n",
        "\n",
        "plt.errorbar(\n",
        "    x,  # абсциссы точек\n",
        "    y + np.random.uniform(-0.2, 0.2, x.shape[0]),  # ординаты точек\n",
        "    xerr=np.array([0.2] * x.shape[0]),  # ошибки расположения каждой точки по оси x\n",
        "    yerr=np.array([0.2] * x.shape[0])  # ошибки расположения каждой точки по оси y\n",
        ")\n",
        "\n",
        "plt.title('График с крестами ошибок')\n",
        "plt.grid()\n",
        "plt.show()"
      ],
      "execution_count": null,
      "outputs": []
    },
    {
      "cell_type": "markdown",
      "metadata": {
        "id": "qlkIZaC68Oo4"
      },
      "source": [
        "### 2.3. Отображения"
      ]
    },
    {
      "cell_type": "markdown",
      "source": [
        "Цветовое представление двумерного массива (heatmap):"
      ],
      "metadata": {
        "id": "YjPlVoEomfpi"
      }
    },
    {
      "cell_type": "code",
      "metadata": {
        "id": "K3-SEDHj8Oo5"
      },
      "source": [
        "plt.figure(figsize=(16,9))\n",
        "\n",
        "# # Построить цветовую карту\n",
        "color_map = plt.pcolormesh(\n",
        "    np.sin(np.outer(np.arange(-5, 6), np.arange(-5, 6)))  # двумерный массив значений\n",
        ")\n",
        "# Добавить к ней столбец с объяснением соответствия между цветом и величиной хранимой в массиве\n",
        "plt.colorbar(color_map)\n",
        "plt.show()"
      ],
      "execution_count": null,
      "outputs": []
    },
    {
      "cell_type": "code",
      "source": [
        "np.outer(np.arange(10), np.arange(10))"
      ],
      "metadata": {
        "id": "ra_mGbD5_gPx"
      },
      "execution_count": null,
      "outputs": []
    },
    {
      "cell_type": "code",
      "metadata": {
        "id": "0fG0SVKb8Oo7"
      },
      "source": [
        "# Построить цветовую карту\n",
        "color_map = plt.imshow(\n",
        "    np.sin(np.outer(np.arange(10), np.arange(10)))  # рандомное RGB - изображение, цветовые каналы представлены числaми из [0,1]\n",
        ")\n",
        "# Добавить к ней столбец с объяснением соответствия между цветом и величиной хранимой в массиве\n",
        "plt.colorbar(color_map)\n",
        "plt.show()"
      ],
      "execution_count": null,
      "outputs": []
    },
    {
      "cell_type": "markdown",
      "metadata": {
        "id": "qhxkQ2in8Oo7"
      },
      "source": [
        "А в чём разница?\n",
        "\n",
        "- `imshow` представляет ячейки как обязательно квадратные, может работать с тремя каналами\n",
        "- `pcolormesh` может рисовать ячейки разных форм"
      ]
    },
    {
      "cell_type": "code",
      "source": [
        "X = np.array([[0, 1, 3.5, 4.5],\n",
        "              [0, 1, 4, 5],\n",
        "              [0, 1, 4, 5.5],\n",
        "              [0, 1, 3.5, 5.5]])\n",
        "Y = np.array([[0, 0, 0, 0.125],\n",
        "              [1, 1, 1, 1.25],\n",
        "              [2, 2, 2, 2.5],\n",
        "              [3, 3, 3, 3]])"
      ],
      "metadata": {
        "id": "MxxRCl3gqe5c"
      },
      "execution_count": null,
      "outputs": []
    },
    {
      "cell_type": "code",
      "source": [
        "color_map = plt.pcolormesh(\n",
        "    X, Y,\n",
        "    np.arange(4)[:, None] + np.arange(4)[None, :],\n",
        "    cmap='Greys'\n",
        ")\n",
        "\n",
        "plt.colorbar(color_map)\n",
        "plt.show()"
      ],
      "metadata": {
        "id": "dtuSzIh9rBNe"
      },
      "execution_count": null,
      "outputs": []
    },
    {
      "cell_type": "code",
      "source": [
        "np.arange(4)[:, None] + np.arange(4)[None, :]"
      ],
      "metadata": {
        "id": "GWjPyKj0sQK2"
      },
      "execution_count": null,
      "outputs": []
    },
    {
      "cell_type": "markdown",
      "metadata": {
        "id": "FXSZ0ee68Oo8"
      },
      "source": [
        "### 2.4. Контурные рисунки"
      ]
    },
    {
      "cell_type": "code",
      "metadata": {
        "id": "Qs0lE5LJ8Oo8"
      },
      "source": [
        "# Строим контурное изображение\n",
        "contours = plt.contour(\n",
        "    np.cos(  # Возьмем чтобы было весело\n",
        "        np.outer(  # умножаем колонку на столбец чтобы получить матрицу\n",
        "            np.linspace(start=0, stop=20, num=40),  # сгенерировать равномерную сетку из 40 точек на отрезке [0, 20]\n",
        "            np.linspace(start=0, stop=20, num=40)\n",
        "        )\n",
        "    ),\n",
        "    #cmap='Greys'\n",
        ")\n",
        "# Добавляем шкалу\n",
        "plt.colorbar(contours)\n",
        "plt.show()"
      ],
      "execution_count": null,
      "outputs": []
    },
    {
      "cell_type": "code",
      "source": [
        "np.outer(  # умножаем колонку на столбец чтобы получить матрицу\n",
        "            np.linspace(start=0, stop=20, num=40),  # сгенерировать равномерную сетку из 40 точек на отрезке [0, 20]\n",
        "            np.linspace(start=0, stop=20, num=40)\n",
        "        )"
      ],
      "metadata": {
        "id": "alOAsKd1ud_3"
      },
      "execution_count": null,
      "outputs": []
    },
    {
      "cell_type": "code",
      "metadata": {
        "id": "D6ix3r798Oo8"
      },
      "source": [
        "# Строим контурное изображение c заливкой\n",
        "contours = plt.contourf(\n",
        "    np.cos(\n",
        "        np.outer(\n",
        "            np.linspace(start=0, stop=20, num=40),\n",
        "            np.linspace(start=0, stop=20, num=40)\n",
        "        )\n",
        "    ),\n",
        "    cmap='Greys'\n",
        ")\n",
        "# Добавляем шкалу\n",
        "plt.colorbar(contours)\n",
        "plt.show()\n",
        "del contours"
      ],
      "execution_count": null,
      "outputs": []
    },
    {
      "cell_type": "code",
      "source": [
        "# Построить цветовую карту\n",
        "color_map = plt.imshow(\n",
        "    np.cos(\n",
        "        np.outer(\n",
        "            np.linspace(start=0, stop=20, num=40),\n",
        "            np.linspace(start=0, stop=20, num=40)\n",
        "        )\n",
        "    )\n",
        ")\n",
        "# Добавить к ней столбец с объяснением соответствия между цветом и величиной хранимой в массиве\n",
        "plt.colorbar(color_map)\n",
        "plt.show()"
      ],
      "metadata": {
        "id": "r9VeNal7C5FW"
      },
      "execution_count": null,
      "outputs": []
    },
    {
      "cell_type": "markdown",
      "metadata": {
        "id": "29thZKxj8Oo9"
      },
      "source": [
        "### 2.5. Заливка"
      ]
    },
    {
      "cell_type": "code",
      "metadata": {
        "id": "UNryIeZb8Oo9"
      },
      "source": [
        "# Простейшая заливка - заливается область между графиком функции и осью абсцисс\n",
        "plt.fill(\n",
        "    np.linspace(start=0, stop=2*np.pi, num=5),  # абсциссы точек\n",
        "    np.sin(np.linspace(start=0, stop=2*np.pi, num=5))  # ординаты точек\n",
        ")\n",
        "plt.show()"
      ],
      "execution_count": null,
      "outputs": []
    },
    {
      "cell_type": "code",
      "metadata": {
        "id": "jyshTrJe8Oo9"
      },
      "source": [
        "# Заливка между двумя графиками функций\n",
        "plt.fill_between(\n",
        "    np.linspace(0, 5, 5),  # абсциссы точек\n",
        "    np.linspace(0, 5, 5) ** 2,  # ординаты первой кривой\n",
        "    np.linspace(0, 5, 5) * 4  # ординаты второй кривой\n",
        ")\n",
        "plt.show()"
      ],
      "execution_count": null,
      "outputs": []
    },
    {
      "cell_type": "code",
      "metadata": {
        "id": "9yqQWsLi8Oo-"
      },
      "source": [
        "# Заливка между двумя графиками функций\n",
        "plt.fill_betweenx(\n",
        "    np.linspace(0, 5, 5),  # ОРДИНАТЫ точек\n",
        "    np.linspace(0, 5, 5) ** 2,  # АБСЦИССЫ первой кривой\n",
        "    np.linspace(0, 5, 5) * 4  # АБСЦИССЫ второй кривой\n",
        ")\n",
        "plt.show()"
      ],
      "execution_count": null,
      "outputs": []
    },
    {
      "cell_type": "markdown",
      "metadata": {
        "id": "cATgqB3U8Oo-"
      },
      "source": [
        "### 2.5 Векторные диаграммы"
      ]
    },
    {
      "cell_type": "code",
      "metadata": {
        "id": "PcvUWxx9kP2G"
      },
      "source": [
        "import numpy as np"
      ],
      "execution_count": null,
      "outputs": []
    },
    {
      "cell_type": "code",
      "source": [
        "# Пример из  meshgrid\n",
        "\n",
        "nx, ny = (3, 2)\n",
        "x = np.linspace(0, 1, nx)\n",
        "y = np.linspace(0, 1, ny)\n",
        "xv, yv = np.meshgrid(x, y)\n",
        "print(xv)\n",
        "# array([[0. , 0.5, 1. ],\n",
        "#        [0. , 0.5, 1. ]])\n",
        "print(yv)\n",
        "# array([[0.,  0.,  0.],\n",
        "#        [1.,  1.,  1.]])"
      ],
      "metadata": {
        "id": "OYl7Azb56bfO"
      },
      "execution_count": null,
      "outputs": []
    },
    {
      "cell_type": "code",
      "source": [
        "# Векторный поток\n",
        "\n",
        "# Готовим координатную сетку\n",
        "\n",
        "# Разметки на оси\n",
        "x = np.linspace(-5, 5, 400)\n",
        "y = np.linspace(-5, 5, 400)\n",
        "\n",
        "# meshgrid возвращает список координатных матриц из координатных векторов.\n",
        "X,Y = np.meshgrid(x,y)\n",
        "# имея координаты узлов сетки, можем построить их каждого узла вектор (Вектора магнитного поля диполя)\n",
        "Ex = (X + 1) / ((X + 1) ** 2 + Y ** 2) - (X - 1) / ((X - 1) ** 2 + Y**2)\n",
        "Ey = Y / ((X + 1) ** 2 + Y ** 2) - Y / ((X - 1) ** 2 + Y**2)\n",
        "\n",
        "fig, ax = plt.subplots()\n",
        "# Стримплот отрисовывает вектор (Ex, Ey) в каждой точке (X, Y)\n",
        "ax.streamplot(X, Y, Ex, Ey)\n",
        "\n",
        "ax.set_aspect('equal')  # Соотношение сторон\n",
        "ax.plot(-1,0,'-or')\n",
        "ax.plot(1,0,'-ob')\n",
        "ax.set_title('Stream Plot of Two Point Charges')\n",
        "\n",
        "plt.show()"
      ],
      "metadata": {
        "id": "SHZXqoJRteWQ"
      },
      "execution_count": null,
      "outputs": []
    },
    {
      "cell_type": "code",
      "metadata": {
        "id": "iZrTec1Y8Oo_"
      },
      "source": [
        "# Векторное поле\n",
        "\n",
        "# Готовим координатную сетку\n",
        "n_points = 20\n",
        "plt.figure(figsize=(16, 9))\n",
        "x = np.linspace(-2*np.pi, 2*np.pi, n_points)\n",
        "y = np.linspace(-2*np.pi, 2*np.pi, n_points)\n",
        "X, Y = np.meshgrid(x, y)\n",
        "\n",
        "# Координаты векторов в координатной сетке\n",
        "u = np.cos(X)*Y\n",
        "v = np.sin(Y)*Y\n",
        "plt.quiver(X, Y, u, v)\n",
        "plt.show()\n"
      ],
      "execution_count": null,
      "outputs": []
    },
    {
      "cell_type": "markdown",
      "metadata": {
        "id": "h58rChBK8Oo_"
      },
      "source": [
        "Ну что же, это было краткое введение. Его достаточно для рисования большинства графиков, но это конечно же не все, что может matplotlib. Так что советую продолжить чтение."
      ]
    },
    {
      "cell_type": "markdown",
      "metadata": {
        "id": "idCXZ2Dx8OpA"
      },
      "source": [
        "## 3. Сложные примеры"
      ]
    },
    {
      "cell_type": "markdown",
      "metadata": {
        "id": "nj75QXIq8OpA"
      },
      "source": [
        "### 3.1. Работа с текстом"
      ]
    },
    {
      "cell_type": "markdown",
      "metadata": {
        "id": "NQE4OoQx8OpA"
      },
      "source": [
        "Разберем пример показывающий какие элементы рисунка могут быть на области рисования и какие у них могут быть настройки. Мы нарисуем рисунок на котором будет\n",
        " - одна область рисования\n",
        " - заголовок рисунка\n",
        " - заголовок графика\n",
        " - график функции $\\cos(x^2)$\n",
        " - аннотация\n",
        " - текст в рамке\n",
        " - подписи к осям X и Y\n",
        " - легенда\n",
        " - координатная сетка\n",
        "\n",
        "Все именованные параметры функций являются опциональными. Поудаляйте их чтобы увидеть как по умолчанию отображаются эти элементы."
      ]
    },
    {
      "cell_type": "code",
      "metadata": {
        "id": "KZ45fTiI8OpA"
      },
      "source": [
        "#  Генерируем данные\n",
        "step = 0.01\n",
        "# создать массив чисел от 0 до 2pi с шагом 0.01\n",
        "x = np.arange(0.0, 2*np.pi + step, step)\n",
        "#  посчитать cos(x^2) от полученной сетки x'ов\n",
        "y = np.cos(x * x)\n",
        "\n",
        "# Создать рисунок\n",
        "fig = plt.figure(\n",
        "    figsize=(16, 9),  # размером 16 на 9 дюймов\n",
        "    facecolor='whitesmoke',  # c подложкой цвета белый дым\n",
        "    dpi=100  # разрешением 200 точек\n",
        ")\n",
        "\n",
        "# Добавить заголовок рисунка с 30-м шрифтом\n",
        "plt.suptitle('This is a title for the whole figure', fontsize=30)\n",
        "\n",
        "# Добавить заголовок графика\n",
        "plt.title('This is a title for our plot', fontsize=20)\n",
        "\n",
        "# Нарисовать cos(x^2)\n",
        "plt.plot(\n",
        "    x, y,\n",
        "    #color='red',  # Цвет пурпурный\n",
        "    linestyle='--',  # Стиль - пунктирная линия\n",
        "    alpha=0.4,  # Непрозрачность\n",
        "    linewidth=10,  # Толщина\n",
        "    label='This is a legend for graph of $\\cos(x^2)$' # Подпись в легенде. Можно использовать TeX!\n",
        ")\n",
        "\n",
        "plt.plot(\n",
        "    x, np.sin(x ** 2),\n",
        "    #color='blue',  # Цвет пурпурный\n",
        "    linestyle='--',  # Стиль - пунктирная линия\n",
        "    alpha=0.4,  # Непрозрачность\n",
        "    linewidth=10,  # Толщина\n",
        "    label='This is a legend for graph of $\\cos(x^2)$' # Подпись в легенде. Можно использовать TeX!\n",
        ")\n",
        "\n",
        "# Добавим аннотацию\n",
        "plt.annotate(\n",
        "    'This is an annotation\\n for $\\cos(x^2)$ with fancy arrow\\n pointing at graph',\n",
        "    xy=(1.15, -0.25),  #  точка куда будет указывать стрелка\n",
        "    arrowprops=dict(arrowstyle='fancy'),\n",
        "    xytext=(0, -0.5)  # расположение аннотации\n",
        ")\n",
        "\n",
        "# Поставить легенду\n",
        "plt.legend(\n",
        "    loc='lower left',  # Снизу слева\n",
        "    borderaxespad=1  # С отступом 5 от осей\n",
        ")\n",
        "\n",
        "# Добавить подписи к осям X и Y\n",
        "plt.xlabel(\n",
        "    'This is an X axis label',  # Текст\n",
        "    fontdict=dict(family='serif', color='darkred', weight='normal', size=16)  # Настройки шрифта\n",
        ")\n",
        "plt.ylabel(\n",
        "    'This is a Y axis label',\n",
        "    fontdict=dict(family='monospace', color='peru', weight='light', size=25)\n",
        ")\n",
        "\n",
        "# Добавить текст\n",
        "plt.text(\n",
        "    2.0, 0.2,  # Позиция начала текста\n",
        "    'This is a custom text',  # Собственно сам текст\n",
        "    fontsize=26,  # Размер шрифта\n",
        "    color='firebrick',  # Цвет букв\n",
        "    rotation=20,\n",
        "    bbox=dict(  # Параметры рамки ограничивающей текст\n",
        "        alpha=0.4, # Прозрачность фона рамки\n",
        "        edgecolor='slateblue',  # цвет рамки\n",
        "        facecolor='azure',  # цвет подложки\n",
        "        pad=1., # отступ рамки от текст\n",
        "        boxstyle='round'  # форма рамки\n",
        "    )\n",
        ")\n",
        "\n",
        "# Добавить координатную сетку\n",
        "# Получающиеся вертикальные линии это Xticks, а горизонтальные Yticks\n",
        "plt.grid(True)\n",
        "\n",
        "plt.show()\n",
        "del step, x, y, fig"
      ],
      "execution_count": null,
      "outputs": []
    },
    {
      "cell_type": "markdown",
      "metadata": {
        "id": "7gDorKwq8OpB"
      },
      "source": [
        "### 3.2. Полярные координаты"
      ]
    },
    {
      "cell_type": "markdown",
      "metadata": {
        "id": "b9fHj2Us8OpC"
      },
      "source": [
        "Область рисования может быть непрямоугольной, напрмер если вы используете полярные координаты. В этом случае вам придется самостоятельно создать область рисования. Мы создадим ее методом add_axes указав размеры прямоугольника в котором будет находится область рисования. Тут стоит сказать, что на рисунке действуют относительные координаты, в диапазоне от 0 до 1. В этом примере мы будем использовать более объектно ориентированный подход и будем вызывать методы объектов, а не функции модуля plt. Использовать функции модуля plt считается плохим тоном так как вы постоянно оперируете глобальным состоянием к которому еще и не имеете доступа."
      ]
    },
    {
      "cell_type": "code",
      "metadata": {
        "id": "p-a0ZmShPOAx"
      },
      "source": [
        "len(np.arange(0.0, 2 * np.pi + .01, .01))"
      ],
      "execution_count": null,
      "outputs": []
    },
    {
      "cell_type": "code",
      "metadata": {
        "scrolled": false,
        "id": "L_bTWfzJ8OpC"
      },
      "source": [
        "# Готовим данные\n",
        "step = 0.01\n",
        "phi = np.arange(0.0, 2*np.pi + step, step)\n",
        "rho1 = np.cos(8 * phi)\n",
        "rho2 = np.sin(4 * phi)\n",
        "\n",
        "fig = plt.figure(figsize=(16, 9))\n",
        "# Создать область рисования для полярных координат с подложкой цвета слоновой кости :)\n",
        "# Левый нижний угол будет в точке (0,0)\n",
        "# Ширина и высота соответственно 1 и 1 (то есть на весь рисунок)\n",
        "ax = fig.add_axes([0,0,1,1], polar=True, facecolor='ivory')\n",
        "\n",
        "ax.set_title('Polar plots', fontsize=20)\n",
        "\n",
        "ax.plot(\n",
        "    phi, rho1,\n",
        "    color='orange',\n",
        "    marker='o',  # Добавить круглые метки в тех точках по которым строилась линия\n",
        "    markersize=3,  #  Размер меток\n",
        "    label='$\\cos(8x)$'\n",
        ")\n",
        "\n",
        "ax.plot(\n",
        "    phi, rho2,\n",
        "    linewidth=5,\n",
        "    color='olive',\n",
        "    label='$\\sin(4x)$'\n",
        ")\n",
        "\n",
        "# Раз мы указали label, то надо сделать легенду\n",
        "ax.legend(\n",
        "    bbox_to_anchor=(1.2, 0.54),  # кастомное положение легенды\n",
        "    fancybox=True,\n",
        "    shadow=True\n",
        ")\n",
        "\n",
        "ax.grid(True)\n",
        "\n",
        "plt.show()\n",
        "del step, phi, rho1, rho2, fig, ax"
      ],
      "execution_count": null,
      "outputs": []
    },
    {
      "cell_type": "markdown",
      "metadata": {
        "id": "yKbYT9aK8OpD"
      },
      "source": [
        "### 3.3. Разные типы графиков на одном рисунке"
      ]
    },
    {
      "cell_type": "markdown",
      "metadata": {
        "id": "A-8zo-LL8OpD"
      },
      "source": [
        "Мы нарисуем\n",
        " - набор случайных измерений функци $cos(x)$ к которому добавив белый шум с нулевым средним и дисперсией 0.25\n",
        " - собственно график cos(x)\n",
        " - и область в которой лежат изменения отстоящие не более чем на 1 сигму"
      ]
    },
    {
      "cell_type": "code",
      "metadata": {
        "id": "_cZFT6g78OpD"
      },
      "source": [
        "# Готовим данные\n",
        "scale = 0.5\n",
        "n_points = 100\n",
        "x = 2 * np.pi * np.sort(np.random.rand(n_points))\n",
        "y = np.cos(x)\n",
        "y_noise = y + np.random.normal(scale=0.25, size=n_points)\n",
        "\n",
        "# Готовим рисунок\n",
        "fig = plt.figure(figsize=(16, 9))\n",
        "# Готовим область рисования.\n",
        "ax = fig.add_axes([0, 0, 1, 1])\n",
        "\n",
        "# График самой функции cos(x)\n",
        "ax.plot(\n",
        "    x, y,\n",
        "    color='grey',\n",
        "    linestyle='--',\n",
        "    alpha=0.5,\n",
        "    linewidth=4\n",
        ")\n",
        "\n",
        "# Графики отклоненний на 1 сигму\n",
        "for shift in (scale, -scale):\n",
        "    ax.plot(\n",
        "        x, y + shift,\n",
        "        alpha=0.5,\n",
        "        color='darkgrey',\n",
        "        linewidth=6\n",
        "    )\n",
        "\n",
        "# Сделаем заливку всего что находится между отклонениями\n",
        "ax.fill_between(\n",
        "    x, y - scale, y + scale,\n",
        "    alpha=0.9,\n",
        "    color='lightgrey',\n",
        ")\n",
        "\n",
        "# Собственно scatter plot\n",
        "ax.scatter(\n",
        "    x, y_noise,\n",
        "    marker='^',  # Отмечаем точки треугольниками\n",
        "    s=50,  # Размера 50\n",
        "    color='red'  #  Красного цвета\n",
        ")\n",
        "\n",
        "# Подпишем оси\n",
        "ax.set_xlabel('Uniformly random input: x', fontsize=15)\n",
        "ax.set_ylabel('Readout: $y=cos(x)+\\mathbf{noise}$', fontsize=15)\n",
        "\n",
        "ax.grid(True)\n",
        "\n",
        "plt.show()\n",
        "del scale, n_points, x, y, y_noise, fig, ax"
      ],
      "execution_count": null,
      "outputs": []
    },
    {
      "cell_type": "markdown",
      "metadata": {
        "id": "Nfz5ghZi8OpE"
      },
      "source": [
        "Как вы видели по последним примерам большая часть рисования происходит через работу с областью рисования (Axes). Этот объект-контейнер содержит в себе другие контейнеры и объекты-примитивы. Видно, что существует множество методов для создания и изменения свойств элементов рисунков и графических примитивов. Всё, что можно сделать через pyplot, можно сделать работая непосредственно с axes-экземплярами. Получаются такие соответствия:\n",
        "\n",
        "Метод объекта Axes -> Краткое описание -> объект типа Artist создаваемый методом -> Контейнер в котором будет храниться Artist\n",
        "\n",
        "    ax.annotate -> текстовая подпись -> Annotate -> ax.texts\n",
        "\n",
        "    ax.text -> текст -> Text -> ax.texts\n",
        "\n",
        "    ax.bar -> столбчатая диаграмма -> Rectangle -> ax.patches\n",
        "\n",
        "    ax.errorbar -> график погрешностей -> Line2D и Rectangle -> ax.lines и ax.patches\n",
        "\n",
        "    ax.fill -> заливка области -> Polygon -> ax.patches\n",
        "\n",
        "    ax.hist -> гистограмма -> Rectangle -> ax.patches\n",
        "\n",
        "    ax.imshow -> изображение -> AxesImage -> ax.images\n",
        "\n",
        "    ax.legend -> легенда -> Legend -> ax.legends\n",
        "\n",
        "    ax.plot -> XY график -> Line2D -> ax.lines\n",
        "\n",
        "    ax.scatter -> точечная диаграмма -> PolygonCollection -> ax.collections\n"
      ]
    },
    {
      "cell_type": "markdown",
      "metadata": {
        "id": "f9GnvmjJ8OpE"
      },
      "source": [
        "### 3.4. Несколько областей рисования"
      ]
    },
    {
      "cell_type": "markdown",
      "metadata": {
        "id": "WbiBbbeQ8OpE"
      },
      "source": [
        "Зачастую необходимо расположить несколько областей на одном графике. Для этого надо создать несколько областей рисования и работать с каждой в отдельности. В следующем примере мы нарисуем график функции $x^2(2+\\sin(1/x))$ и добавим еще одну область рисования для самой интересной части графика"
      ]
    },
    {
      "cell_type": "code",
      "metadata": {
        "scrolled": false,
        "id": "TzryPyMc8OpE"
      },
      "source": [
        "def crazy_func(x):\n",
        "    return x * x * (2 + np.sin(1 / x))\n",
        "\n",
        "fig = plt.figure(figsize=(16, 9))\n",
        "\n",
        "fig.suptitle('A crazy function example')\n",
        "\n",
        "# Нарисуем основной график\n",
        "big_ax = fig.add_axes([0, 0, 1, 0.9])\n",
        "big_ax.plot(\n",
        "    np.linspace(0.001, 1, 1000),\n",
        "    np.apply_along_axis(crazy_func, 0, np.linspace(0.001, 1, 1000)),\n",
        "    label='$x^2(2+\\sin(1/x))$'\n",
        ")\n",
        "\n",
        "big_ax.text(\n",
        "    0, 2.5,\n",
        "    '''\n",
        "    This function is differentiable at 0, has global minimum there and\n",
        "    infinitely many local minima and maxima in the neighbourhood\n",
        "    '''\n",
        ")\n",
        "\n",
        "big_ax.legend(bbox_to_anchor=(0.2, 0.54))\n",
        "big_ax.grid(True)\n",
        "\n",
        "# Нарисуем вспомогательный график\n",
        "small_ax = fig.add_axes([0.5, 0.1, 0.4, 0.6])\n",
        "small_ax.plot(\n",
        "    np.linspace(0.001, 0.1, 1000),\n",
        "    np.apply_along_axis(crazy_func, 0, np.linspace(0.001, 0.1, 1000))\n",
        ")\n",
        "small_ax.grid(True)\n",
        "\n",
        "\n",
        "plt.show()\n",
        "#del crazy_func, fig, big_ax, small_ax"
      ],
      "execution_count": null,
      "outputs": []
    },
    {
      "cell_type": "markdown",
      "metadata": {
        "id": "HrlKM0Of8OpF"
      },
      "source": [
        "### 3.5. Мультиокна"
      ]
    },
    {
      "cell_type": "markdown",
      "metadata": {
        "id": "HepF_EzU8OpF"
      },
      "source": [
        "В предыдущем примере мы создали две области рисования, но их расположение пришлось задавать явно с помощью координат. В большинстве случаев такой точный уровень настройки не нужен. Для этого в matplotlib существуют мультиокна. Во многом они похожи на области рисования. Создавать их можно из объекта Figure с помощью метода add_subplots.\n",
        "\n",
        "При использовании метода add_subplots рисунок разбивается как таблица на некоторое число строк и столбцов. Возникающие ячейки нигде не рисуются - это удобная абстракция. Далее можно выбрать одну из этих ячеек, и рисовать в ней. Чтобы сделать это надо в функцию subplots передать три числа или трехзначное число. Первая цифра указывает количество строк, вторая - столбцов, третья - порядковый номер ячейки в которой вы хотите рисовать (нумерация начинается с 1 идет слева направо и сверху вниз). Например, вызов fig.add_subplots(3, 3, 7) разобъет рисунок на 9 равных частей и вернет вам ячейку из нижнего левого угла.\n",
        "\n",
        "Преимущество подхода в том, что вы получаете области рисования одинакового размера не задумываясь о том какие должны быть у них координаты."
      ]
    },
    {
      "cell_type": "markdown",
      "metadata": {
        "id": "774hIULvchyY"
      },
      "source": [
        "[Фигуры Лиссажу](https://ru.wikipedia.org/wiki/%D0%A4%D0%B8%D0%B3%D1%83%D1%80%D1%8B_%D0%9B%D0%B8%D1%81%D1%81%D0%B0%D0%B6%D1%83)"
      ]
    },
    {
      "cell_type": "code",
      "metadata": {
        "id": "OaLsdzYu8OpF"
      },
      "source": [
        "# Готовим данные\n",
        "t = np.linspace(0, 2*np.pi, 1000)\n",
        "\n",
        "# Здесь все как обычно\n",
        "fig = plt.figure(figsize=(20, 13))\n",
        "fig.suptitle('Lissajous figures')\n",
        "\n",
        "nrows = 4\n",
        "ncols = 4\n",
        "\n",
        "for a in range(1, nrows + 1):\n",
        "    for b in range(1, ncols + 1):\n",
        "        # Выбираем ячейку\n",
        "        ax = fig.add_subplot(nrows, ncols, (a - 1) * ncols + b)\n",
        "        # Рисуем кривую Лиссажу\n",
        "        ax.plot(\n",
        "            np.cos(a*t),\n",
        "            np.sin(b*t),\n",
        "        )\n",
        "        ax.plot(\n",
        "            np.sin(a*t),\n",
        "            np.sin(b*t),\n",
        "        )\n",
        "        # Обираем оси координат (они только засоряют рисунок)\n",
        "        ax.set_axis_off()\n",
        "        # Делаем подписи\n",
        "        ax.set_title(f'a={a}, b={b}')\n",
        "\n",
        "plt.show()"
      ],
      "execution_count": null,
      "outputs": []
    },
    {
      "cell_type": "markdown",
      "metadata": {
        "id": "QxqDNynx8OpG"
      },
      "source": [
        "А теперь, как это удобно делать:"
      ]
    },
    {
      "cell_type": "code",
      "metadata": {
        "id": "qx21bp5H8OpG"
      },
      "source": [
        "t = np.linspace(0, 2*np.pi, 1000)\n",
        "\n",
        "nrows = 4\n",
        "ncols = 4\n",
        "\n",
        "figure, axes = plt.subplots(nrows, ncols, figsize=(15,15))\n",
        "\n",
        "for a in range(nrows):\n",
        "    for b in range(ncols):\n",
        "        # Выбираем ячейку\n",
        "        ax = axes[a][b]\n",
        "        # Рисуем кривую Лиссажу\n",
        "        ax.plot(\n",
        "            np.cos((a+1)*t),\n",
        "            np.sin((b+1)*t),\n",
        "        )\n",
        "        # Обираем оси координат (они только засоряют рисунок)\n",
        "        ax.set_axis_off()\n",
        "        # Делаем подписи\n",
        "        ax.set_title('a={}, b={}'.format(a+1, b+1))\n",
        "\n",
        "plt.show()"
      ],
      "execution_count": null,
      "outputs": []
    },
    {
      "cell_type": "markdown",
      "metadata": {
        "id": "TKhnsnrk8OpG"
      },
      "source": [
        "Иногда хочется собрать несколько графиков на одном рисунке, но их размеры должны отличаться. Для этого надо использовать объект GridSpec."
      ]
    },
    {
      "cell_type": "code",
      "metadata": {
        "id": "wXyhtYXB8OpG"
      },
      "source": [
        "from matplotlib import gridspec  # GridSpec определен там\n",
        "\n",
        "# Создаем картинку\n",
        "fig = plt.figure(figsize=(16, 9))\n",
        "fig.suptitle('Zoo of hyperbolic functions', fontsize=20)\n",
        "\n",
        "# Создаем \"спеку\"\n",
        "spec = gridspec.GridSpec(nrows=3, ncols=4)\n",
        "# В метод add_suplot можно передать slicing от спеки.\n",
        "# Тем самым создастся область рисования занимающая ячейки соответствующие slicing'у\n",
        "fig.add_subplot(spec[0, :3])  # Добавить область рисования занимающую первые три ячейки первой строки\n",
        "fig.add_subplot(spec[:2, 3])\n",
        "fig.add_subplot(spec[2, 1:])\n",
        "fig.add_subplot(spec[1:, 0])\n",
        "fig.add_subplot(spec[1, 1:3])\n",
        "\n",
        "trig_funcs = [np.sinh, np.tanh, np.cosh, np.arcsinh, np.arccosh]\n",
        "points = np.linspace(-2, 2, 100)\n",
        "\n",
        "for ax, func in zip(fig.axes, trig_funcs[::-1]):\n",
        "    ax.plot(\n",
        "        points,\n",
        "        func(points),\n",
        "        label='{}(x)'.format(func.__name__)\n",
        "    )\n",
        "    # Выбрать самое \"хорошее\" расположение для легенды\n",
        "    ax.legend(loc='best')\n",
        "    ax.grid(True)\n",
        "\n",
        "plt.show()"
      ],
      "execution_count": null,
      "outputs": []
    },
    {
      "cell_type": "markdown",
      "metadata": {
        "id": "1wiIVpxO8OpH"
      },
      "source": [
        "### 3.6. Координатные оси"
      ]
    },
    {
      "cell_type": "markdown",
      "metadata": {
        "id": "1sJceii38OpH"
      },
      "source": [
        "В matplotlib оси координат являются элементом рисунка, а точнее контейнером типа Artist. Примеры - оси $x$, $y$ в декартовой системе координат, оси $r$, $\\phi$ в полярной системе координат. Каждая ось содержит три группы графических примитивов: деления осей (ticks), подписи делений (tick lables), подписи осей (axis labels).\n",
        "\n",
        "Деления на оси бывают главные и вспомогательные. Чтобы получить к ним доступ надо в методе get_ticks в аргумент which передавать 'major' или 'minor'. По умолчанию отображаются только major деления."
      ]
    },
    {
      "cell_type": "code",
      "metadata": {
        "id": "dBaQRG2I8OpH"
      },
      "source": [
        "fig = plt.figure(figsize=(9, 9))\n",
        "# Здесь мы создаем мультиокно из 1 строки и 1 столбца  выбираем 1-ю ячейку\n",
        "# Такой вот странный и часто используемый способ создать область рисования\n",
        "ax = fig.add_subplot(111)\n",
        "ax.set_title('Process of studying matplotlib', fontsize=25, color='cadetblue')\n",
        "\n",
        "# Здесь все как обычно - рисуем линию\n",
        "ax.plot(\n",
        "    np.arange(70),\n",
        "    2 - np.exp(0.01 * np.arange(70)),\n",
        "    color='teal'\n",
        ")\n",
        "\n",
        "# Задаем положения вспомогательных делений на оси Х\n",
        "ax.set_xticks(np.arange(5, 85, 10), minor=True)\n",
        "# Задаем положения основных делений\n",
        "ax.set_xticks(np.arange(0, 80, 10))\n",
        "# Задаем диапазон значений x который будет отрисовываться. Обынчно он шире диапазона делений\n",
        "ax.set_xlim(0, 80)\n",
        "# Ставим подписи к основным делениям на оси x\n",
        "ax.set_xticklabels(\n",
        "    ['{} mins'.format(t) for t in range(0, 80, 10)],  # текст надписей\n",
        "    rotation=45,  # угол поворота надписей\n",
        "    fontsize=15,\n",
        "    color='cadetblue'\n",
        ")\n",
        "# Настраиваем параметры основных делений на оси X\n",
        "ax.tick_params(\n",
        "    axis='x',\n",
        "    which='major',\n",
        "    direction='inout', # деления будут пересекать ось\n",
        "    length=20,  # длина делений в точках\n",
        "    width=5,  # ширина делений в точках\n",
        "    color='powderblue',\n",
        "    top=False, bottom=True,  # рисуем делениями только снизу\n",
        "    labeltop=False, labelbottom=True  # рисуем подписи к делениям только снизу\n",
        ")\n",
        "\n",
        "# Для оси Y все настройки аналогичны\n",
        "ax.set_yticks(np.arange(0.1, 1, 0.2), minor=True)\n",
        "ax.set_yticks(np.arange(0, 1.1, 0.2))\n",
        "ax.set_ylim(-0.2, 1.2)\n",
        "ax.set_yticklabels(\n",
        "    ['Leave me alone', 'I don\\'t give a damn', 'Indifference', 'Interest', 'Inquisitiveness', 'Pure excitement'],\n",
        "    fontsize=15,\n",
        "    color='cadetblue'\n",
        ")\n",
        "ax.tick_params(\n",
        "    axis='y', which='major',\n",
        "    direction='in',\n",
        "    length=20, width=5, color='powderblue',\n",
        "    left=True, right=True,\n",
        "    labelleft=True, labelright=True\n",
        ")\n",
        "\n",
        "# Делаем подписи к осям\n",
        "ax.set_xlabel('Duration', color='teal', fontsize=20)\n",
        "ax.set_ylabel('Motivation', color='teal', fontsize=20)\n",
        "\n",
        "# Для основных делений оси x мы строим координатную сетку пунктирной линией\n",
        "ax.grid(True, axis='x', which='major', color='dimgrey', linestyle='--')\n",
        "# Для вспомогательных делений оси x мы строим координатную сетку сплошной линией более тусклого цвета\n",
        "ax.grid(True, axis='x', which='minor', color='lightgrey', linestyle=':')\n",
        "# Аналогично настраиваются параметры для координатной сетки по оси Y\n",
        "ax.grid(True, axis='y', which='major', color='grey', linestyle='-.')\n",
        "ax.grid(True, axis='y', which='minor', color='lightgrey', linestyle='-')\n",
        "\n",
        "plt.show()"
      ],
      "execution_count": null,
      "outputs": []
    },
    {
      "cell_type": "markdown",
      "metadata": {
        "id": "2vyl9Bm_8OpI"
      },
      "source": [
        "При всем том, что ноутбук получился очень большим, мы не обсудили еще очень много тем: глобальные настройки через rcParams, работа со шрифтами, палитры, специальный дизайн шкалы на температурной карте и т.д. и т.п. Если вам понадобятся такие возможности matplotlib, то пора садиться за [серьезные книжки](http://index-of.co.uk/Tutorials/Matplotlib%20for%20Python%20Developers.pdf) или даже [читать документацию](https://matplotlib.org/index.html)."
      ]
    },
    {
      "cell_type": "markdown",
      "source": [
        "## Пример с Датасетом визуализации датасета по матчам Дота 2\n"
      ],
      "metadata": {
        "id": "ndr4hHmijDry"
      }
    },
    {
      "cell_type": "code",
      "source": [
        "import pandas as pd\n",
        "import requests\n",
        "\n",
        "# Читаем датасет\n",
        "resp = requests.get('https://api.opendota.com/api/leagues/13256/matches')\n",
        "data = pd.DataFrame(resp.json())\n",
        "\n",
        "data.head()"
      ],
      "metadata": {
        "id": "tA8VFWisjno2"
      },
      "execution_count": null,
      "outputs": []
    },
    {
      "cell_type": "markdown",
      "source": [
        "Как часто побеждала команда света ?"
      ],
      "metadata": {
        "id": "avicWoNfpfja"
      }
    },
    {
      "cell_type": "code",
      "source": [
        "radiant_win = data.radiant_win.sum()\n",
        "dire_win = data.radiant_win.count() - radiant_win\n",
        "\n",
        "plt.pie(\n",
        "        [radiant_win, dire_win],\n",
        "        labels=['radiant', ' dire'],\n",
        "        colors=plt.cm.Pastel2.colors\n",
        "       )\n",
        "\n",
        "plt.show()"
      ],
      "metadata": {
        "id": "SDXSAQXSpfJ7"
      },
      "execution_count": null,
      "outputs": []
    },
    {
      "cell_type": "markdown",
      "source": [
        "Ну почти 50 \\ 50 : )\n",
        "Видимо игра честная. (ха-ха)"
      ],
      "metadata": {
        "id": "j6tgSKYKr308"
      }
    },
    {
      "cell_type": "markdown",
      "source": [
        "Распределение score у команды dire и radiant"
      ],
      "metadata": {
        "id": "7cNsU0BmsCfc"
      }
    },
    {
      "cell_type": "code",
      "source": [
        "plt.boxplot(\n",
        "    [data.radiant_score, data.dire_score],\n",
        "    labels=['radiant', 'dire']\n",
        "    )\n",
        "\n",
        "plt.grid()\n",
        "plt.show()"
      ],
      "metadata": {
        "id": "NS0p3tWgr-0a"
      },
      "execution_count": null,
      "outputs": []
    },
    {
      "cell_type": "markdown",
      "source": [
        "В среднем dire побед меньше и среднее значение тоже меньше, но макимальное значение выше.\n",
        "\n",
        "Почему минимальное значение равное ?"
      ],
      "metadata": {
        "id": "QCKC_60r7VVG"
      }
    },
    {
      "cell_type": "markdown",
      "source": [
        "Как долго в среднем идут игры ?"
      ],
      "metadata": {
        "id": "TtV2CNCc78hf"
      }
    },
    {
      "cell_type": "code",
      "source": [
        "plt.figure(figsize=(16,9))\n",
        "\n",
        "plt.hist(\n",
        "    data.duration,\n",
        "    bins = 50\n",
        "    )\n",
        "\n",
        "plt.axvline(data.duration.mean(), color='red') # mean\n",
        "plt.axvline(data.duration.median(), color='pink') # median\n",
        "\n",
        "# std\n",
        "plt.axvline(data.duration.mean() + data.duration.std(), color='green')\n",
        "plt.axvline(data.duration.mean() - data.duration.std(), color='green')\n",
        "\n",
        "\n",
        "plt.title(\"Распределение длительности игры\")\n",
        "plt.grid()\n",
        "plt.show()"
      ],
      "metadata": {
        "id": "fftmoxeU1C7b"
      },
      "execution_count": null,
      "outputs": []
    },
    {
      "cell_type": "markdown",
      "source": [
        "какое здесь распределение ?\n",
        "\n",
        "Почему ?"
      ],
      "metadata": {
        "id": "ACxk4FWJ8SGw"
      }
    },
    {
      "cell_type": "markdown",
      "metadata": {
        "id": "Eh_qhYtqx0eP"
      },
      "source": [
        "\n",
        "## Extra. Галерея примеров"
      ]
    },
    {
      "cell_type": "markdown",
      "source": [
        "У Matplotlib имеется галерея примеров, чтобы увидеть какие еще графики с его помощью можно получать: https://matplotlib.org/gallery/index.html"
      ],
      "metadata": {
        "id": "ZijUVY5mBOI0"
      }
    },
    {
      "cell_type": "markdown",
      "source": [
        "#Seaborn"
      ],
      "metadata": {
        "id": "2GAKQ1hh3Z1L"
      }
    },
    {
      "cell_type": "markdown",
      "source": [
        "Архитектура `Seaborn` обеспечивает быстрый анализ и визуализацию данных. Она принимает целые фреймы данных или массивы, содержащие ваши данные, и автоматически выполняет все необходимые внутренние функции для семантического отображения и статистической агрегации. Эта библиотека абстрагирует сложность, позволяя вам настраивать графики в соответствии с вашими потребностями."
      ],
      "metadata": {
        "id": "2jMJXxRL5mZG"
      }
    },
    {
      "cell_type": "code",
      "source": [
        "import seaborn as sns"
      ],
      "metadata": {
        "id": "KJTDjIn5uwKH"
      },
      "execution_count": null,
      "outputs": []
    },
    {
      "cell_type": "markdown",
      "source": [
        "Прелесть `Seaborn` в том, что он работает непосредственно с объектами `DataFrame` из `Pandas`, что делает ее очень удобной. Более того, библиотека поставляется с некоторыми встроенными наборами данных, которые можно использовать прямо из кода, и не загружать файлы вручную.\n",
        "\n",
        "Посмотрим на список датасетов, которые в нём есть:"
      ],
      "metadata": {
        "id": "oz1QUxRdkk3A"
      }
    },
    {
      "cell_type": "code",
      "source": [
        "sns.get_dataset_names()"
      ],
      "metadata": {
        "id": "BEtWz-olNuPp"
      },
      "execution_count": null,
      "outputs": []
    },
    {
      "cell_type": "markdown",
      "source": [
        "Давайте воспользуемся датасетом с пингвинами и попробуем визуализировать некоторые зависимости в датасете.\n",
        "\n"
      ],
      "metadata": {
        "id": "lXIZDUIMQFLN"
      }
    },
    {
      "cell_type": "code",
      "source": [
        "penguins_data = sns.load_dataset(\"penguins\")\n",
        "penguins_data.head()"
      ],
      "metadata": {
        "id": "-jqRBElgklVK"
      },
      "execution_count": null,
      "outputs": []
    },
    {
      "cell_type": "markdown",
      "source": [
        "### Точечный график - Scatter plot"
      ],
      "metadata": {
        "id": "b2LVD_p1QTD0"
      }
    },
    {
      "cell_type": "markdown",
      "source": [
        "Для построения точечного графика достаточно вызвать метод `scatterplot`:\n",
        "- В параметре `data` указываем `DataFrame`\n",
        "\n",
        "- По осям `x` и `y` указываем столбцы, значения которых мы хотим нанести на график\n",
        "\n",
        "- Параметр `hue` помогает раскрасить признаки объектов в разрезе некоторого другого столбца, в данном примере `species` (виды пингвинов)"
      ],
      "metadata": {
        "id": "nRtoZz79ssrK"
      }
    },
    {
      "cell_type": "code",
      "source": [
        "sns.scatterplot(\n",
        "                data=penguins_data,\n",
        "                x=\"bill_length_mm\",\n",
        "                y=\"bill_depth_mm\",\n",
        "                hue='species'\n",
        "               )"
      ],
      "metadata": {
        "id": "4clkIga__qck"
      },
      "execution_count": null,
      "outputs": []
    },
    {
      "cell_type": "markdown",
      "source": [
        "В параметре `hue` можно передавать не только категориальные признаки, но и численные."
      ],
      "metadata": {
        "id": "9syX-DPOdfX-"
      }
    },
    {
      "cell_type": "code",
      "source": [
        "sns.scatterplot(\n",
        "                data=penguins_data,\n",
        "                x=\"bill_length_mm\",\n",
        "                y=\"bill_depth_mm\",\n",
        "                hue=\"body_mass_g\"\n",
        "               )"
      ],
      "metadata": {
        "id": "PiG6b0a7dbHE"
      },
      "execution_count": null,
      "outputs": []
    },
    {
      "cell_type": "markdown",
      "source": [
        "### Столбчатая диаграмма - Bar plot"
      ],
      "metadata": {
        "id": "dXZSSpPd8wBY"
      }
    },
    {
      "cell_type": "markdown",
      "source": [
        "Для построения точечного графика достаточно вызвать метод `barplot`:\n",
        "- В параметре `data` указываем `DataFrame`\n",
        "\n",
        "- По осям `x` и `y` указываем столбцы, значения которых мы хотим нанести на график"
      ],
      "metadata": {
        "id": "Lgq-7P4ps5Jy"
      }
    },
    {
      "cell_type": "code",
      "source": [
        "sns.barplot(\n",
        "            data=penguins_data,\n",
        "            x=\"species\",\n",
        "            y=\"body_mass_g\"\n",
        "           )"
      ],
      "metadata": {
        "id": "biYLAosO3Fol"
      },
      "execution_count": null,
      "outputs": []
    },
    {
      "cell_type": "markdown",
      "source": [
        "### Гистограмма - Hist plot"
      ],
      "metadata": {
        "id": "WHPq90DBXHRf"
      }
    },
    {
      "cell_type": "markdown",
      "source": [
        "Для построения точечного графика достаточно вызвать метод `histplot`:\n",
        "- В параметре `data` указываем `DataFrame`\n",
        "\n",
        "- По оси `x` указываем столбец, значения которого мы хотим нанести на график\n",
        "\n",
        "- Параметр `kde` позволяет построить оценочный график распределения величины"
      ],
      "metadata": {
        "id": "0esRJq_-s7ob"
      }
    },
    {
      "cell_type": "code",
      "source": [
        "sns.histplot(\n",
        "             data=penguins_data,\n",
        "             x=\"flipper_length_mm\",\n",
        "             kde=True\n",
        "            )"
      ],
      "metadata": {
        "id": "3EBAlmBEU8W6"
      },
      "execution_count": null,
      "outputs": []
    },
    {
      "cell_type": "markdown",
      "source": [
        "В sns очень легко выставить KDE, в отличии от plt, который не умеет делать анализ данных."
      ],
      "metadata": {
        "id": "PgvbX6iQKWsq"
      }
    },
    {
      "cell_type": "markdown",
      "source": [
        "\n",
        "Если нужно нарисовать горизонтальный график, достаточно указать столбец в параметре `y`."
      ],
      "metadata": {
        "id": "bGpx945bXRfA"
      }
    },
    {
      "cell_type": "code",
      "source": [
        "sns.histplot(data=penguins_data, y=\"flipper_length_mm\")"
      ],
      "metadata": {
        "id": "me89LyqOWcaW"
      },
      "execution_count": null,
      "outputs": []
    },
    {
      "cell_type": "markdown",
      "source": [
        "### Создание красивых графиков с помощью стилей"
      ],
      "metadata": {
        "id": "RavVm6M8Yduk"
      }
    },
    {
      "cell_type": "markdown",
      "source": [
        "Seaborn дает возможность менять интерфейс ваших графиков. Для этого из коробки у нас в распоряжении есть пять стилей: `darkgrid`, `whitegrid`, `dark`, `white` и `ticks`."
      ],
      "metadata": {
        "id": "jolIqIIqs-bO"
      }
    },
    {
      "cell_type": "markdown",
      "source": [
        "Пример использования одного из стилей на одном из предыдущих графиков."
      ],
      "metadata": {
        "id": "CC9UZDLCZVT9"
      }
    },
    {
      "cell_type": "code",
      "source": [
        "sns.set_style('darkgrid')\n",
        "sns.scatterplot(data=penguins_data,\n",
        "                x=\"bill_length_mm\",\n",
        "                y=\"bill_depth_mm\",\n",
        "                hue='species')"
      ],
      "metadata": {
        "id": "9g-PLV8oXDrm"
      },
      "execution_count": null,
      "outputs": []
    },
    {
      "cell_type": "markdown",
      "source": [
        "### Многомерные представления наборов данных\n"
      ],
      "metadata": {
        "id": "CvOTgOUQZ2rb"
      }
    },
    {
      "cell_type": "markdown",
      "source": [
        "\n",
        "Некоторые функции seaborn объединяют несколько видов графиков для быстрого получения информативных сводок набора данных.\n",
        "\n",
        "Одна из них, `jointplot()`, фокусируется на одной взаимосвязи. Она отображает совместное распределение между двумя переменными.\n",
        "\n",
        "- В параметре `data` указываем `DataFrame`\n",
        "\n",
        "- По оси `x` и `y` указываем столбцы, значения которого мы хотим нанести на график\n",
        "\n",
        "- Параметр `hue` помогает раскрасить признаки объектов в разрезе некоторого другого столбца\n",
        "\n",
        "---"
      ],
      "metadata": {
        "id": "lCjR6vzDtBjE"
      }
    },
    {
      "cell_type": "code",
      "source": [
        "sns.jointplot(data=penguins_data, x=\"flipper_length_mm\", y=\"bill_length_mm\", hue=\"species\")"
      ],
      "metadata": {
        "id": "nym6VkqhZMek"
      },
      "execution_count": null,
      "outputs": []
    },
    {
      "cell_type": "markdown",
      "source": [
        "Если нужно понять общую картину между всеми столбцами датасета, можно использовать`pairplot()`, нарисует матрицу рассеивания, которая показывает совместное распределение для всех пар столбцов датасета."
      ],
      "metadata": {
        "id": "_AxwsphVavif"
      }
    },
    {
      "cell_type": "code",
      "source": [
        "sns.pairplot(data=penguins_data, hue=\"species\")"
      ],
      "metadata": {
        "id": "xev4y_N5aa9z"
      },
      "execution_count": null,
      "outputs": []
    },
    {
      "cell_type": "markdown",
      "source": [
        "### Тепловая карта - Heat map\n"
      ],
      "metadata": {
        "id": "F6UE20PZgIPV"
      }
    },
    {
      "cell_type": "markdown",
      "source": [
        "Иногда стоит оценить корреляцию признаков друг с другом, чтобы понять какие из данных \"зависят\" друг от друга.\n",
        "С этим нам поможет метод `heatmap()`."
      ],
      "metadata": {
        "id": "oVWTfuCqtFCG"
      }
    },
    {
      "cell_type": "markdown",
      "source": [
        "Для начала вычислим матрицу корреляций для каждого численного столбца датасета"
      ],
      "metadata": {
        "id": "WChsql4ghM9b"
      }
    },
    {
      "cell_type": "code",
      "source": [
        "corr_matrix = penguins_data[['bill_length_mm', 'bill_depth_mm', 'flipper_length_mm', 'body_mass_g']].corr()\n",
        "corr_matrix"
      ],
      "metadata": {
        "id": "puofhP8VhVby"
      },
      "execution_count": null,
      "outputs": []
    },
    {
      "cell_type": "markdown",
      "source": [
        "Теперь подсветим каждую ячейку матрицы с помощью heatmap, чтобы наглядно видеть столбцы, которые сильно коррелируют друг с другом"
      ],
      "metadata": {
        "id": "rz5f7a-Th1jg"
      }
    },
    {
      "cell_type": "code",
      "source": [
        "sns.heatmap(corr_matrix)"
      ],
      "metadata": {
        "id": "IXSaqJzEdL13"
      },
      "execution_count": null,
      "outputs": []
    },
    {
      "cell_type": "markdown",
      "source": [
        "На этом функционал библиотеки не ограничивается, это основные графики, которые используются чаще всего.\n",
        "Seaborn предоставляет больший функционал для визуализации, с которым можно ознакомиться в [официальной документации](https://seaborn.pydata.org/).\n"
      ],
      "metadata": {
        "id": "Fd_ddqmdjxRO"
      }
    },
    {
      "cell_type": "markdown",
      "source": [
        "Пример сложного графика, который реализуется одной командой"
      ],
      "metadata": {
        "id": "EPmA2NntMZDt"
      }
    },
    {
      "cell_type": "code",
      "source": [
        "# Подгружаем seaborn и задаем стиль темы\n",
        "import seaborn as sns\n",
        "sns.set_theme(style=\"whitegrid\")\n",
        "\n",
        "# Загружаем выборочный набор данных\n",
        "tips = sns.load_dataset(\"tips\")\n",
        "\n",
        "# Используем пользовательский список цветов (одинаковая длина и количество категорий)\n",
        "custom_palette = [\"#FF5733\", \"#33FF57\"]\n",
        "\n",
        "# Используйте различные предопределенные цветовые палитры для отображения сгруппированных скрипичных диаграмм\n",
        "sns.violinplot(data=tips, x=\"day\", y=\"total_bill\", hue=\"smoker\",\n",
        "               split=True, inner=\"quart\", linewidth=1,\n",
        "               palette=custom_palette) # Одна команда\n",
        "\n",
        "sns.despine(left=True)\n",
        "plt.show()"
      ],
      "metadata": {
        "id": "mgcCoMUVMnvn"
      },
      "execution_count": null,
      "outputs": []
    },
    {
      "cell_type": "markdown",
      "source": [
        "# Plotly"
      ],
      "metadata": {
        "id": "VnYD1-Xkk3mn"
      }
    },
    {
      "cell_type": "markdown",
      "source": [
        "`Plotly` - это библиотека для визуализации данных на на `Python` однако в отличие от `Seaborn` и `Matplotlib`, она позволяет изучать данные «на лету» (не перестраивая график в `Matplotlib`, изменяя масштаб, включая/выключая какие-то данные), а также построить полноценный интерактивный отчёт (dashboard).\n"
      ],
      "metadata": {
        "id": "3cwbXk6z6i-3"
      }
    },
    {
      "cell_type": "markdown",
      "source": [
        "`Plotly` состоит из нескольких частей:\n",
        "\n",
        "- Front-End на `JS`\n",
        "- Back-End на `Python` (за основу взята библиотека `Seaborn`)\n",
        "- Back-End на `R`"
      ],
      "metadata": {
        "id": "zZ_d9YzfJRyE"
      }
    },
    {
      "cell_type": "code",
      "source": [
        "import plotly.graph_objs as go\n",
        "import numpy as np"
      ],
      "metadata": {
        "id": "2AnySew36niy"
      },
      "execution_count": null,
      "outputs": []
    },
    {
      "cell_type": "markdown",
      "source": [
        "Чтобы нарисовать примитивный график параболы достаточно:\n",
        "- создать объект fig (полотно на который будем наносить графики) c помощью  `go.Figure()`\n",
        "- методом `add_trace` добавить рисовалку `go.Scatter(x, y)` (график получится не точечный, а линейный)\n",
        "- показать график с помощью метода `show`"
      ],
      "metadata": {
        "id": "V5Rp2J-OICUS"
      }
    },
    {
      "cell_type": "code",
      "source": [
        "x = np.arange(-2, 2, 0.1)\n",
        "fig = go.Figure()\n",
        "fig.add_trace(go.Scatter(x=x, y=x**2))\n",
        "fig.show()"
      ],
      "metadata": {
        "id": "BsNLqXic7OQx"
      },
      "execution_count": null,
      "outputs": []
    },
    {
      "cell_type": "markdown",
      "source": [
        "График получился интерактивный, если навести на него курсор, то можно его приближать и удалять, выделять участки, по наведению курсора на точку получать подробную информацию, возвращать картинку в исходное положение, а при необходимости «скриншотить» и сохранять как файл."
      ],
      "metadata": {
        "id": "Q887UaVpImgT"
      }
    },
    {
      "cell_type": "markdown",
      "source": [
        "Если нужно нанести на график несколько кривых, достаточно методом `add_trace` добавить все графики, которые нужно отобразить.\n",
        "\n",
        "А также добавим названия графикам, чтобы красиво отобразить легенду. Для этого в параметре name указываем функцию в формате `LATEX`. Для более красивого отображения легенды можно перенести её в любую часть полотна с помощью метода `update_layout`."
      ],
      "metadata": {
        "id": "hkwEoUZfKmh2"
      }
    },
    {
      "cell_type": "code",
      "source": [
        "x = np.arange(-2, 2, 0.1)\n",
        "fig = go.Figure()\n",
        "fig.add_trace(go.Scatter(x=x, y=x**2, name='$$f(x)=x^2$$'))\n",
        "fig.add_trace(go.Scatter(x=x, y=x, name='$$g(x)=x$$'))\n",
        "fig.update_layout(legend_orientation=\"h\", legend=dict(x=.5, xanchor=\"center\"))\n",
        "fig.show()"
      ],
      "metadata": {
        "id": "uP4WzmzK7TDA"
      },
      "execution_count": null,
      "outputs": []
    },
    {
      "cell_type": "markdown",
      "source": [
        "###3D графики"
      ],
      "metadata": {
        "id": "uMHSe3xSpxqk"
      }
    },
    {
      "cell_type": "markdown",
      "source": [
        "Создание 3D графиков не отличается от 2D, нам нужно лишь добавить третий массив данных для оси `z` и выбрать метод `Surface`, в случае, если например нужно нарисовать 3-ех мерную поверхность."
      ],
      "metadata": {
        "id": "Tml7TpmTqB0o"
      }
    },
    {
      "cell_type": "code",
      "source": [
        "x = np.outer(np.linspace(-2, 2, 30), np.ones(30))\n",
        "y = x.copy().T\n",
        "z = np.cos(x ** 2 + y ** 2)\n",
        "\n",
        "fig = go.Figure()\n",
        "fig.add_trace(go.Surface(x=x, y=y, z=z))\n",
        "\n",
        "fig.show()"
      ],
      "metadata": {
        "id": "qVcCA9Aup3o9"
      },
      "execution_count": null,
      "outputs": []
    },
    {
      "cell_type": "markdown",
      "source": [
        "И так далее графики можно и дальше кастомизировать и улучшать их визуал, однако plotly предоставляет еще большую абстракцию для построения графиков и также, как `Seaborn` умеет работать с объектами `Pandas`. Рассмотрим примеры.\n"
      ],
      "metadata": {
        "id": "FuQWbXCXOF50"
      }
    },
    {
      "cell_type": "markdown",
      "source": [
        "Будем работать с объектами"
      ],
      "metadata": {
        "id": "igHHwhj4SgdS"
      }
    },
    {
      "cell_type": "code",
      "source": [
        "from plotly import express as px"
      ],
      "metadata": {
        "id": "7Cd6qVySK4lD"
      },
      "execution_count": null,
      "outputs": []
    },
    {
      "cell_type": "markdown",
      "source": [
        "Также как и в `Seaborn` в `Plotly` существуют предзагруженные данные, воспользуемся датасетом Ириса Фишера и построим графики на его основе."
      ],
      "metadata": {
        "id": "J_I2AvqoPtED"
      }
    },
    {
      "cell_type": "code",
      "source": [
        "iris_data = px.data.iris()\n",
        "iris_data"
      ],
      "metadata": {
        "id": "clh17vEVPNto"
      },
      "execution_count": null,
      "outputs": []
    },
    {
      "cell_type": "markdown",
      "source": [
        "**Все графики ниже будут интерактивными,можно наводить мышкой на объекты и получать информацию по каждому из них.**"
      ],
      "metadata": {
        "id": "z6n-SS4HO0eJ"
      }
    },
    {
      "cell_type": "markdown",
      "source": [
        "### Точечный график - scatter\n"
      ],
      "metadata": {
        "id": "xjEXaecJveDk"
      }
    },
    {
      "cell_type": "markdown",
      "source": [
        "Используем метод `scatter()` для нанесения точек на график, набор параметров не сильно меняется по сравнению с `Seaborn`, вместо параметра `hue`, используется параметр `color`, все остальные параметры идентичны."
      ],
      "metadata": {
        "id": "mVH4gjfltOdr"
      }
    },
    {
      "cell_type": "code",
      "source": [
        "fig = px.scatter(iris_data, x=\"petal_length\", y='petal_width', color='species')\n",
        "fig.show()"
      ],
      "metadata": {
        "id": "W7vtYdV7TaLs"
      },
      "execution_count": null,
      "outputs": []
    },
    {
      "cell_type": "markdown",
      "source": [
        "### Круговая диаграмма - pie"
      ],
      "metadata": {
        "id": "UoiqHCgBJg8p"
      }
    },
    {
      "cell_type": "markdown",
      "source": [
        "Используем метод `scatter()` для диаграммы, Seaborn из коробки не поставляет такой тип графика, поэтому сранивать можно только с `matplotlib`\n",
        "\n",
        "Параметр `color_discrete_sequence` отвечает за цветовую палитру, есть палитры из коробки (как в примере ниже), а можно и самому внести туда цвета для каждого объекта (группы объектов) графика."
      ],
      "metadata": {
        "id": "Zz1QmVN2tSSb"
      }
    },
    {
      "cell_type": "code",
      "source": [
        "fig = px.pie(iris_data, names=\"species\", color_discrete_sequence=px.colors.sequential.RdBu)\n",
        "fig.show()"
      ],
      "metadata": {
        "id": "I5-AWt5rUzsL"
      },
      "execution_count": null,
      "outputs": []
    },
    {
      "cell_type": "markdown",
      "source": [
        "### Тепловая карта - imshow"
      ],
      "metadata": {
        "id": "DGoR8Qo7h_DX"
      }
    },
    {
      "cell_type": "markdown",
      "source": [
        "Также как и в `Seaborn` в `Plotly` есть возможность создавать тепловую карту для матрицы корреляций признаков."
      ],
      "metadata": {
        "id": "AEWPMCuBtVva"
      }
    },
    {
      "cell_type": "code",
      "source": [
        "corr_matrix = iris_data[['sepal_length','sepal_width','petal_length', 'petal_width']].corr()\n",
        "\n",
        "fig = px.imshow(corr_matrix, color_continuous_scale='Blues', text_auto=True)\n",
        "fig.show()\n"
      ],
      "metadata": {
        "id": "Urbqd_oyilse"
      },
      "execution_count": null,
      "outputs": []
    }
  ],
  "metadata": {
    "celltoolbar": "Slideshow",
    "colab": {
      "provenance": []
    },
    "kernelspec": {
      "display_name": "Python 3 (ipykernel)",
      "language": "python",
      "name": "python3"
    },
    "language_info": {
      "codemirror_mode": {
        "name": "ipython",
        "version": 3
      },
      "file_extension": ".py",
      "mimetype": "text/x-python",
      "name": "python",
      "nbconvert_exporter": "python",
      "pygments_lexer": "ipython3",
      "version": "3.9.5"
    }
  },
  "nbformat": 4,
  "nbformat_minor": 0
}