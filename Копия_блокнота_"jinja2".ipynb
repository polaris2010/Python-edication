{
  "cells": [
    {
      "cell_type": "markdown",
      "metadata": {
        "id": "view-in-github",
        "colab_type": "text"
      },
      "source": [
        "<a href=\"https://colab.research.google.com/github/polaris2010/Python-edication/blob/master/%D0%9A%D0%BE%D0%BF%D0%B8%D1%8F_%D0%B1%D0%BB%D0%BE%D0%BA%D0%BD%D0%BE%D1%82%D0%B0_%22jinja2%22.ipynb\" target=\"_parent\"><img src=\"https://colab.research.google.com/assets/colab-badge.svg\" alt=\"Open In Colab\"/></a>"
      ]
    },
    {
      "cell_type": "markdown",
      "source": [
        "# Шаблонизатор здорового человека. Jinja"
      ],
      "metadata": {
        "id": "Du6B2Q5dy3hn"
      }
    },
    {
      "cell_type": "markdown",
      "source": [
        "Это сторонняя библиотека - нужно явно установить:"
      ],
      "metadata": {
        "id": "RHmVjwb0zFUI"
      }
    },
    {
      "cell_type": "code",
      "source": [
        "!pip install Jinja2"
      ],
      "metadata": {
        "colab": {
          "base_uri": "https://localhost:8080/"
        },
        "id": "iyWP6TiGzKeG",
        "outputId": "dddeeb0b-71e8-4e64-fb8d-7c70c68630e0"
      },
      "execution_count": null,
      "outputs": [
        {
          "output_type": "stream",
          "name": "stdout",
          "text": [
            "Requirement already satisfied: Jinja2 in /usr/local/lib/python3.10/dist-packages (3.1.4)\n",
            "Requirement already satisfied: MarkupSafe>=2.0 in /usr/local/lib/python3.10/dist-packages (from Jinja2) (2.1.5)\n"
          ]
        }
      ]
    },
    {
      "cell_type": "markdown",
      "source": [
        "В colab не нужно - стоит по умолчанию:"
      ],
      "metadata": {
        "id": "ZOQIyM3MzL4o"
      }
    },
    {
      "cell_type": "code",
      "source": [
        "import jinja2"
      ],
      "metadata": {
        "id": "U5R4FFwty87p"
      },
      "execution_count": null,
      "outputs": []
    },
    {
      "cell_type": "markdown",
      "source": [
        "## Hello world! с Jinja"
      ],
      "metadata": {
        "id": "U2VLQj7t1DKf"
      }
    },
    {
      "cell_type": "code",
      "source": [
        "import jinja2\n",
        "environment = jinja2.Environment()\n",
        "template = environment.from_string(\"Hello, {{ name }}!\")\n",
        "\n",
        "template.render(name=\"World\")"
      ],
      "metadata": {
        "id": "jzJSLzhOy9za",
        "colab": {
          "base_uri": "https://localhost:8080/",
          "height": 36
        },
        "outputId": "c8e03296-4395-446d-ac61-8b3902d68a62"
      },
      "execution_count": null,
      "outputs": [
        {
          "output_type": "execute_result",
          "data": {
            "text/plain": [
              "'Hello, World!'"
            ],
            "application/vnd.google.colaboratory.intrinsic+json": {
              "type": "string"
            }
          },
          "metadata": {},
          "execution_count": 3
        }
      ]
    },
    {
      "cell_type": "markdown",
      "source": [
        "Основной компонент Jinja - класс Environment(). В этом примере вы создаете среду Jinja без каких-либо аргументов, но это не надолго :) Позже вы измените параметры среды, чтобы настроить свою среду.\n",
        "\n",
        "Здесь вы создаете простую среду, в которую загружаете строку `Hello, {{ name }}!` в качестве шаблона."
      ],
      "metadata": {
        "id": "c_RlPbj-1Q85"
      }
    },
    {
      "cell_type": "markdown",
      "source": [
        "Данный пример несильно отличается от f-строк, но здесь показаны основные шаги при работе с Jinja:\n",
        "\n",
        "- **Загрузка шаблона.** Загружаем источник, содержащий переменные-филлеры (заполнители). По умолчанию они заключены в пару фигурных скобок ({{ }}).\n",
        "- **Рендеринг (отображение) шаблона.** Заполняем филлеры содержимым, например,переданными аргументами."
      ],
      "metadata": {
        "id": "vmo_xIJc2FNJ"
      }
    },
    {
      "cell_type": "markdown",
      "source": [
        "## Внешний файл в качестве шаблона"
      ],
      "metadata": {
        "id": "FcP91Y5T2HEe"
      }
    },
    {
      "cell_type": "markdown",
      "source": [
        "Создадим jinja-шаблон в виде отдельного файла:"
      ],
      "metadata": {
        "id": "qYwgzbko2Miw"
      }
    },
    {
      "cell_type": "code",
      "source": [
        "%%file message.txt\n",
        "Hello {{ name }}!\n",
        "\n",
        "I'm happy to inform you that you did very well on today's {{ test_name }}.\n",
        "You reached {{ score }} out of {{ max_score }} points.\n",
        "\n",
        "See you tomorrow!\n",
        "Anke"
      ],
      "metadata": {
        "colab": {
          "base_uri": "https://localhost:8080/"
        },
        "id": "JSc_bNEs2Db5",
        "outputId": "d51732ff-eff3-408a-a49b-b6cc4a1c170b"
      },
      "execution_count": null,
      "outputs": [
        {
          "output_type": "stream",
          "name": "stdout",
          "text": [
            "Writing message.txt\n"
          ]
        }
      ]
    },
    {
      "cell_type": "markdown",
      "source": [
        "Теперь напишем программу, которая составит на основе этого шаблона письмо каждому из студентов:"
      ],
      "metadata": {
        "id": "SShPwO1t2ZFm"
      }
    },
    {
      "cell_type": "code",
      "source": [
        "from jinja2 import Environment, FileSystemLoader\n",
        "\n",
        "# Информация о студентах\n",
        "max_score = 100\n",
        "test_name = \"Python Challenge\"\n",
        "students = [\n",
        "    {\"name\": \"Sandrine\",  \"score\": 100},\n",
        "    {\"name\": \"Gergeley\", \"score\": 87},\n",
        "    {\"name\": \"Frieda\", \"score\": 92},\n",
        "]\n",
        "\n",
        "# Создаем объект-среду для Jinja\n",
        "environment = Environment(loader=FileSystemLoader(\"./\"))\n",
        "\n",
        "# Загружаем шаблон из файла\n",
        "template = environment.get_template(\"message.txt\")\n",
        "\n",
        "# Для каждого студента\n",
        "for student in students:\n",
        "    # Формируем имя файла письма\n",
        "    filename = f\"message_{student['name'].lower()}.txt\"\n",
        "    # Рендерим шаблон, заполняя поля\n",
        "    content = template.render(\n",
        "        student,\n",
        "        max_score=max_score,\n",
        "        test_name=test_name\n",
        "    )\n",
        "    # Сохраняем письма\n",
        "    with open(filename, mode=\"w\", encoding=\"utf-8\") as message:\n",
        "        message.write(content)\n",
        "        print(f\"... wrote {filename}\")"
      ],
      "metadata": {
        "colab": {
          "base_uri": "https://localhost:8080/"
        },
        "id": "XsZ22V0N2Rtd",
        "outputId": "5f302992-6155-407e-e1d5-5d758a190878"
      },
      "execution_count": null,
      "outputs": [
        {
          "output_type": "stream",
          "name": "stdout",
          "text": [
            "... wrote message_sandrine.txt\n",
            "... wrote message_gergeley.txt\n",
            "... wrote message_frieda.txt\n"
          ]
        }
      ]
    },
    {
      "cell_type": "markdown",
      "source": [
        "Проверим одно из писем:"
      ],
      "metadata": {
        "id": "jjdsaZ_F3GMJ"
      }
    },
    {
      "cell_type": "code",
      "source": [
        "!cat message_gergeley.txt"
      ],
      "metadata": {
        "id": "BIFHSMVt3B-g"
      },
      "execution_count": null,
      "outputs": []
    },
    {
      "cell_type": "markdown",
      "source": [
        "## Условный оператор"
      ],
      "metadata": {
        "id": "qi4P8ZBM3Otc"
      }
    },
    {
      "cell_type": "markdown",
      "source": [
        "Пока что наши шаблоны просто позволяют подставить вместо пропуска какое-либо значение, но Jinja может больше - например, добавить вариантивность и цикличность в наши шаблоны."
      ],
      "metadata": {
        "id": "jyQMaQaA3VyP"
      }
    },
    {
      "cell_type": "markdown",
      "source": [
        "Доработаем предыдущий пример, добавив в него не самых успешных студентов:"
      ],
      "metadata": {
        "id": "mqonFPKt3l9w"
      }
    },
    {
      "cell_type": "code",
      "source": [
        "students = [\n",
        "    {\"name\": \"Sandrine\",  \"score\": 100},\n",
        "    {\"name\": \"Gergeley\", \"score\": 87},\n",
        "    {\"name\": \"Frieda\", \"score\": 92},\n",
        "    # Не самые успешные\n",
        "    {\"name\": \"Fritz\", \"score\": 40},\n",
        "    {\"name\": \"Sirius\", \"score\": 75},\n",
        "]"
      ],
      "metadata": {
        "id": "lMjGfW4K3Jxx"
      },
      "execution_count": null,
      "outputs": []
    },
    {
      "cell_type": "markdown",
      "source": [
        "Для этих товарищей будет неуместно писать \"happy to inform you that you did very well\", лучше написать \"sorry to inform you that you did not do so well\". Поэтому добавим в наш шаблон условный оператор:"
      ],
      "metadata": {
        "id": "b3aBIK4l31SG"
      }
    },
    {
      "cell_type": "code",
      "source": [
        "%%file message.txt\n",
        "Hello {{ name }}!\n",
        "\n",
        "{% if score > 80 %}\n",
        "I'm happy to inform you that you did very well on today's {{ test_name }}.\n",
        "{% else %}\n",
        "I'm sorry to inform you that you did not do so well on today's {{ test_name }}.\n",
        "{% endif %}\n",
        "You reached {{ score }} out of {{ max_score }} points.\n",
        "\n",
        "See you tomorrow!\n",
        "Anke"
      ],
      "metadata": {
        "colab": {
          "base_uri": "https://localhost:8080/"
        },
        "id": "7Ppiw0cj4H19",
        "outputId": "ecdee7f2-a2e8-45ad-93aa-45e5621958d9"
      },
      "execution_count": null,
      "outputs": [
        {
          "output_type": "stream",
          "name": "stdout",
          "text": [
            "Overwriting message.txt\n"
          ]
        }
      ]
    },
    {
      "cell_type": "markdown",
      "source": [
        "Помимо переменных (`{{ }}`), можем обозначать и блоки строк внутри шаблона с помощью `{% %}` и спец. слова внутри - в случае с условным оператором это `{% if condition %}`, `{% else %}` и `{% endif %}` (может быть еще `{% elif %}`)."
      ],
      "metadata": {
        "id": "e5TLdj1K4PIp"
      }
    },
    {
      "cell_type": "code",
      "source": [
        "environment = Environment(loader=FileSystemLoader(\"./\"))\n",
        "template = environment.get_template(\"message.txt\")\n",
        "\n",
        "for student in students:\n",
        "    filename = f\"message_{student['name'].lower()}.txt\"\n",
        "    content = template.render(\n",
        "        student,\n",
        "        max_score=max_score,\n",
        "        test_name=test_name\n",
        "    )\n",
        "    with open(filename, mode=\"w\", encoding=\"utf-8\") as message:\n",
        "        message.write(content)\n",
        "        print(f\"... wrote {filename}\")"
      ],
      "metadata": {
        "colab": {
          "base_uri": "https://localhost:8080/"
        },
        "id": "lyPIRryU4NJf",
        "outputId": "46b0848a-7de0-4f0a-f8f5-91b44b5b4046"
      },
      "execution_count": null,
      "outputs": [
        {
          "output_type": "stream",
          "name": "stdout",
          "text": [
            "... wrote message_sandrine.txt\n",
            "... wrote message_gergeley.txt\n",
            "... wrote message_frieda.txt\n",
            "... wrote message_fritz.txt\n",
            "... wrote message_sirius.txt\n"
          ]
        }
      ]
    },
    {
      "cell_type": "markdown",
      "source": [
        "Посмотрим на сообщение для одного из неуспешных на тесте студентов:"
      ],
      "metadata": {
        "id": "Tw5h5d1y5EoR"
      }
    },
    {
      "cell_type": "code",
      "source": [
        "!cat message_sirius.txt"
      ],
      "metadata": {
        "colab": {
          "base_uri": "https://localhost:8080/"
        },
        "id": "qWSziBBJ5Ka_",
        "outputId": "b9f60fa8-84a6-4f92-94f1-13b096d739eb"
      },
      "execution_count": null,
      "outputs": [
        {
          "output_type": "stream",
          "name": "stdout",
          "text": [
            "Hello Sirius!\n",
            "\n",
            "\n",
            "I'm sorry to inform you that you did not do so well on today's Python Challenge.\n",
            "\n",
            "You reached 75 out of 100 points.\n",
            "\n",
            "See you tomorrow!\n",
            "Anke"
          ]
        }
      ]
    },
    {
      "cell_type": "code",
      "source": [
        "!cat message_frieda.txt"
      ],
      "metadata": {
        "colab": {
          "base_uri": "https://localhost:8080/"
        },
        "id": "MQTSyemh5RVj",
        "outputId": "8bb9079f-3c73-4d86-c875-5de24f553db6"
      },
      "execution_count": null,
      "outputs": [
        {
          "output_type": "stream",
          "name": "stdout",
          "text": [
            "Hello Frieda!\n",
            "\n",
            "\n",
            "I'm happy to inform you that you did very well on today's Python Challenge.\n",
            "\n",
            "You reached 92 out of 100 points.\n",
            "\n",
            "See you tomorrow!\n",
            "Anke"
          ]
        }
      ]
    },
    {
      "cell_type": "markdown",
      "source": [
        "## Цикл в Jinja"
      ],
      "metadata": {
        "id": "nSnpNa215X-W"
      }
    },
    {
      "cell_type": "markdown",
      "source": [
        "Так же структурой выходного файла можно управлять с помощью цикла `for`. Для примера - создадим html-файл с результатами всех студентов:"
      ],
      "metadata": {
        "id": "uJSfyNq35gfP"
      }
    },
    {
      "cell_type": "code",
      "source": [
        "%%file results.html\n",
        "<!DOCTYPE html>\n",
        "<html lang=\"en\">\n",
        "<head>\n",
        "  <meta charset=\"utf-8\">\n",
        "  <title>Results</title>\n",
        "</head>\n",
        "\n",
        "<body>\n",
        "  <h1>{{ test_name }} Results</h1>\n",
        "  <ul>\n",
        "  {% for student in students %}\n",
        "    <li>\n",
        "      <em>{{ student.name }}:</em> {{ student.score }}/{{ max_score }}\n",
        "    </li>\n",
        "  {% endfor %}\n",
        "  </ul>\n",
        "</body>\n",
        "</html>"
      ],
      "metadata": {
        "colab": {
          "base_uri": "https://localhost:8080/"
        },
        "id": "TBPXlzcj5UmZ",
        "outputId": "1c9bfe47-e1ac-48be-dd4d-274585fdb7e7"
      },
      "execution_count": null,
      "outputs": [
        {
          "output_type": "stream",
          "name": "stdout",
          "text": [
            "Writing results.html\n"
          ]
        }
      ]
    },
    {
      "cell_type": "markdown",
      "source": [
        "В этом примере jinja пройдется по списку `students` и воспользуется значениями словарей в нем для заполнения полей."
      ],
      "metadata": {
        "id": "AQxjjcCT6Rru"
      }
    },
    {
      "cell_type": "markdown",
      "source": [
        "Аналогично условному оператору, для цикла нам нужны `{% for %}` и `{% endfor %}`."
      ],
      "metadata": {
        "id": "NVAhhSbB6dRz"
      }
    },
    {
      "cell_type": "markdown",
      "source": [
        "Можем так же добавить в этот пример и условный оператор:"
      ],
      "metadata": {
        "id": "icHP73kk7Uls"
      }
    },
    {
      "cell_type": "code",
      "source": [
        "%%file results.html\n",
        "<!DOCTYPE html>\n",
        "<html lang=\"en\">\n",
        "<head>\n",
        "  <meta charset=\"utf-8\">\n",
        "  <title>Results</title>\n",
        "</head>\n",
        "\n",
        "<body>\n",
        "  <h1>{{ test_name }} Results</h1>\n",
        "  <ul>\n",
        "  {% for student in students %}\n",
        "    <li>\n",
        "      {% if student.score > 80 %}😃{% else %}☹️{% endif %}\n",
        "      <em>{{ student.name }}:</em> {{ student.score }}/{{ max_score }}\n",
        "    </li>\n",
        "  {% endfor %}\n",
        "  </ul>\n",
        "</body>\n",
        "</html>"
      ],
      "metadata": {
        "colab": {
          "base_uri": "https://localhost:8080/"
        },
        "id": "0uPpkLsj7ZZZ",
        "outputId": "fc6b14d9-9ab2-4430-fa6c-6826c6b3341b"
      },
      "execution_count": null,
      "outputs": [
        {
          "output_type": "stream",
          "name": "stdout",
          "text": [
            "Overwriting results.html\n"
          ]
        }
      ]
    },
    {
      "cell_type": "markdown",
      "source": [
        "В итоге получим следующий код для файла:"
      ],
      "metadata": {
        "id": "TjQDsdqF6qkw"
      }
    },
    {
      "cell_type": "code",
      "source": [
        "environment = Environment(loader=FileSystemLoader(\"./\"))\n",
        "results_filename = \"students_results.html\"\n",
        "results_template = environment.get_template(\"results.html\")\n",
        "context = {\n",
        "    \"students\": students,\n",
        "    \"test_name\": test_name,\n",
        "    \"max_score\": max_score,\n",
        "}\n",
        "with open(results_filename, mode=\"w\", encoding=\"utf-8\") as results:\n",
        "    result_rendered_html = results_template.render(context)\n",
        "    results.write(result_rendered_html)\n",
        "    print(f\"... wrote {results_filename}\")"
      ],
      "metadata": {
        "colab": {
          "base_uri": "https://localhost:8080/"
        },
        "id": "OZPIFZC06Ma0",
        "outputId": "0ab2d454-095f-40d5-e4a2-cc16d471ce15"
      },
      "execution_count": null,
      "outputs": [
        {
          "output_type": "stream",
          "name": "stdout",
          "text": [
            "... wrote students_results.html\n"
          ]
        }
      ]
    },
    {
      "cell_type": "markdown",
      "source": [
        "Посмотрим на результат с помощью инструментов `colab`:"
      ],
      "metadata": {
        "id": "JY2GQx377FT8"
      }
    },
    {
      "cell_type": "code",
      "source": [
        "import IPython\n",
        "IPython.display.HTML(filename='./students_results.html')"
      ],
      "metadata": {
        "id": "Lvt_NUJs66iw"
      },
      "execution_count": null,
      "outputs": []
    },
    {
      "cell_type": "markdown",
      "source": [
        "## Вложенность шаблонов"
      ],
      "metadata": {
        "id": "7mRfVAoB9Q9z"
      }
    },
    {
      "cell_type": "markdown",
      "source": [
        "Часто при создании своего приложения приходится создавать несколько шаблонов (использовать if становится недостаточно). При этом часто разные шаблоны чаще всего все равно содержат много схожих элементов. Чтобы избежать дублирования текста в шаблонах, в Jinja имеется механизм вложенности шаблонов."
      ],
      "metadata": {
        "id": "8-wOKOOh9XRo"
      }
    },
    {
      "cell_type": "markdown",
      "source": [
        "Чаще всего выделяют базовый шаблон и дочерние шаблоны. Вложенность (или наследуемость) осуществляется с помощью \"переопределения\" отдельных именованых блоков текста в шаблоне, обрамленных с помощью `{% block block_name %}` и `{% endblock %}`."
      ],
      "metadata": {
        "id": "o5EfQOBq-BzC"
      }
    },
    {
      "cell_type": "markdown",
      "source": [
        "Рассмотрим базовый шаблон:"
      ],
      "metadata": {
        "id": "HcKqAc2B-Z-L"
      }
    },
    {
      "cell_type": "code",
      "source": [
        "%%file base.html\n",
        "<!DOCTYPE html>\n",
        "<html lang=\"en\">\n",
        "<head>\n",
        "  <meta charset=\"utf-8\">\n",
        "  <title>{% block title %}{{ title }}{% endblock title %}</title>\n",
        "</head>\n",
        "\n",
        "<body>\n",
        "  {% block content %}\n",
        "    <h1>Welcome to {{ title }}!</h1>\n",
        "  {% endblock content %}\n",
        "</body>\n",
        "</html>"
      ],
      "metadata": {
        "colab": {
          "base_uri": "https://localhost:8080/"
        },
        "id": "Bgg5R-oa7L55",
        "outputId": "3700efbe-b080-47b1-e9da-a82356b3147b"
      },
      "execution_count": null,
      "outputs": [
        {
          "output_type": "stream",
          "name": "stdout",
          "text": [
            "Writing base.html\n"
          ]
        }
      ]
    },
    {
      "cell_type": "markdown",
      "source": [
        "В нем мы выделили два блока, которые сможем переписать - `title` и `content`. Содержимое базового шаблона внутри `{% block block_name %}` и `{% endblock %}` - заглушка на тот случай, если в дочернем шаблоне мы этот блок не переопределим."
      ],
      "metadata": {
        "id": "sfWUnKaM-mro"
      }
    },
    {
      "cell_type": "markdown",
      "source": [
        "Теперь создадим дочерний шаблон с результатами теста:"
      ],
      "metadata": {
        "id": "y-o73UGH-_4s"
      }
    },
    {
      "cell_type": "code",
      "source": [
        "%%file results.html\n",
        "{% extends \"base.html\" %}\n",
        "\n",
        "{% block content %}\n",
        "<h1>{{ test_name }} {{ title }}</h1>\n",
        "<ul>\n",
        "{% for student in students %}\n",
        "  <li>\n",
        "    {% if student.score > 80 %}😃{% else %}☹️{% endif %}\n",
        "    <em>{{ student.name }}:</em> {{ student.score }}/{{ max_score }}\n",
        "  </li>\n",
        "{% endfor %}\n",
        "</ul>\n",
        "{% endblock content %}"
      ],
      "metadata": {
        "colab": {
          "base_uri": "https://localhost:8080/"
        },
        "id": "uQQl7RYx-mOC",
        "outputId": "f6714da5-7626-4dc2-804d-c49cfcd08091"
      },
      "execution_count": null,
      "outputs": [
        {
          "output_type": "stream",
          "name": "stdout",
          "text": [
            "Overwriting results.html\n"
          ]
        }
      ]
    },
    {
      "cell_type": "markdown",
      "source": [
        "Связь между дочерних шаблонов с родительским осуществляется с помощью `{% extends \"parent_template\" %}`.\n",
        "\n",
        "Переопределение блоков - с помощью создания блоков в дочернем шаблоне."
      ],
      "metadata": {
        "id": "rojABVw0_NOA"
      }
    },
    {
      "cell_type": "code",
      "source": [
        "environment = Environment(loader=FileSystemLoader(\"./\"))\n",
        "results_filename = \"students_results.html\"\n",
        "results_template = environment.get_template(\"results.html\")\n",
        "context = {\n",
        "    \"students\": students,\n",
        "    \"test_name\": test_name,\n",
        "    \"max_score\": max_score,\n",
        "}\n",
        "with open(results_filename, mode=\"w\", encoding=\"utf-8\") as results:\n",
        "    result_rendered_html = results_template.render(context)\n",
        "    results.write(result_rendered_html)\n",
        "    print(f\"... wrote {results_filename}\")"
      ],
      "metadata": {
        "colab": {
          "base_uri": "https://localhost:8080/"
        },
        "id": "ygNPZKg7_IZg",
        "outputId": "5c1479db-26dd-499f-e4f9-0949432c7432"
      },
      "execution_count": null,
      "outputs": [
        {
          "output_type": "stream",
          "name": "stdout",
          "text": [
            "... wrote students_results.html\n"
          ]
        }
      ]
    },
    {
      "cell_type": "code",
      "source": [
        "import IPython\n",
        "IPython.display.HTML(filename='./students_results.html')"
      ],
      "metadata": {
        "colab": {
          "base_uri": "https://localhost:8080/",
          "height": 169
        },
        "id": "rKDL38U1_nY8",
        "outputId": "96f48c2a-291e-4916-9cea-b76075b4224c"
      },
      "execution_count": null,
      "outputs": [
        {
          "output_type": "execute_result",
          "data": {
            "text/plain": [
              "<IPython.core.display.HTML object>"
            ],
            "text/html": [
              "<!DOCTYPE html>\n",
              "<html lang=\"en\">\n",
              "<head>\n",
              "  <meta charset=\"utf-8\">\n",
              "  <title></title>\n",
              "</head>\n",
              "\n",
              "<body>\n",
              "  \n",
              "<h1>Python Challenge </h1>\n",
              "<ul>\n",
              "\n",
              "  <li>\n",
              "    😃\n",
              "    <em>Sandrine:</em> 100/100\n",
              "  </li>\n",
              "\n",
              "  <li>\n",
              "    😃\n",
              "    <em>Gergeley:</em> 87/100\n",
              "  </li>\n",
              "\n",
              "  <li>\n",
              "    😃\n",
              "    <em>Frieda:</em> 92/100\n",
              "  </li>\n",
              "\n",
              "  <li>\n",
              "    ☹️\n",
              "    <em>Fritz:</em> 40/100\n",
              "  </li>\n",
              "\n",
              "  <li>\n",
              "    ☹️\n",
              "    <em>Sirius:</em> 75/100\n",
              "  </li>\n",
              "\n",
              "</ul>\n",
              "\n",
              "</body>\n",
              "</html>"
            ]
          },
          "metadata": {},
          "execution_count": 20
        }
      ]
    }
  ],
  "metadata": {
    "celltoolbar": "Слайд-шоу",
    "kernelspec": {
      "display_name": "Python 3 (ipykernel)",
      "language": "python",
      "name": "python3"
    },
    "language_info": {
      "codemirror_mode": {
        "name": "ipython",
        "version": 3
      },
      "file_extension": ".py",
      "mimetype": "text/x-python",
      "name": "python",
      "nbconvert_exporter": "python",
      "pygments_lexer": "ipython3",
      "version": "3.9.5"
    },
    "colab": {
      "provenance": [],
      "collapsed_sections": [
        "ThQAP0HLH3LY",
        "lY0huDq-GTbS"
      ],
      "include_colab_link": true
    }
  },
  "nbformat": 4,
  "nbformat_minor": 0
}