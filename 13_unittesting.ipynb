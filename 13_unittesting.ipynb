{
  "cells": [
    {
      "cell_type": "markdown",
      "metadata": {
        "id": "KbPKthEXnXcJ"
      },
      "source": [
        "# Unit-тестирование\n"
      ]
    },
    {
      "cell_type": "markdown",
      "metadata": {
        "id": "UhTFb6IEnXcJ"
      },
      "source": [
        "## Простое тестирование\n",
        "\n",
        "`assert` - проверяет условие, если условие неверно - выдает ошибку `AssertionError`:"
      ]
    },
    {
      "cell_type": "code",
      "execution_count": null,
      "metadata": {
        "id": "iuuuyKkEnXcK"
      },
      "outputs": [],
      "source": [
        "nums = [1, 2, 4]\n",
        "\n",
        "assert sum(nums) == 6, \"Sum should be 6\""
      ]
    },
    {
      "cell_type": "markdown",
      "metadata": {
        "id": "HUrtdQkDnXcL"
      },
      "source": [
        "## Модуль unittest\n",
        "\n",
        "В Python встроен модуль **unittest**, который поддерживает автоматизацию тестов, использование общего кода для настройки и завершения тестов, объединение тестов в группы, а также позволяет отделять тесты от фреймворка для вывода информации.\n",
        "\n",
        "Для автоматизации тестов, unittest поддерживает некоторые важные концепции:\n",
        "- **Испытательный стенд (test fixture)** - выполняется подготовка, необходимая для выполнения тестов и все необходимые действия для очистки после выполнения тестов. Это может включать, например, создание временных баз данных или запуск серверного процесса.\n",
        "\n",
        "- **Тестовый случай (test case)** - минимальный блок тестирования. Он проверяет ответы для разных наборов данных. Модуль unittest предоставляет базовый класс TestCase, который можно использовать для создания новых тестовых случаев.\n",
        "\n",
        "- **Набор тестов (test suite)** - несколько тестовых случаев, наборов тестов или и того и другого. Он используется для объединения тестов, которые должны быть выполнены вместе.\n",
        "\n",
        "- **Исполнитель тестов (test runner)** - компонент, который управляет выполнением тестов и предоставляет пользователю результат. Исполнитель может использовать графический или текстовый интерфейс или возвращать специальное значение, которое сообщает о результатах выполнения тестов.\n"
      ]
    },
    {
      "cell_type": "markdown",
      "metadata": {
        "id": "0H0gPFHqnXcM"
      },
      "source": [
        "Простой пример проверки работы строковых методов:"
      ]
    },
    {
      "cell_type": "code",
      "execution_count": 1,
      "metadata": {
        "id": "DWOFhyZGnXcN",
        "outputId": "88c2461d-967b-4f21-ef0e-663ec8450b85",
        "colab": {
          "base_uri": "https://localhost:8080/",
          "height": 317
        }
      },
      "outputs": [
        {
          "output_type": "stream",
          "name": "stderr",
          "text": [
            "E\n",
            "======================================================================\n",
            "ERROR: /root/ (unittest.loader._FailedTest)\n",
            "----------------------------------------------------------------------\n",
            "AttributeError: module '__main__' has no attribute '/root/'\n",
            "\n",
            "----------------------------------------------------------------------\n",
            "Ran 1 test in 0.014s\n",
            "\n",
            "FAILED (errors=1)\n"
          ]
        },
        {
          "output_type": "error",
          "ename": "SystemExit",
          "evalue": "True",
          "traceback": [
            "An exception has occurred, use %tb to see the full traceback.\n",
            "\u001b[0;31mSystemExit\u001b[0m\u001b[0;31m:\u001b[0m True\n"
          ]
        },
        {
          "output_type": "stream",
          "name": "stderr",
          "text": [
            "/usr/local/lib/python3.10/dist-packages/IPython/core/interactiveshell.py:3561: UserWarning: To exit: use 'exit', 'quit', or Ctrl-D.\n",
            "  warn(\"To exit: use 'exit', 'quit', or Ctrl-D.\", stacklevel=1)\n"
          ]
        }
      ],
      "source": [
        "import unittest\n",
        "\n",
        "class TestStringMethods(unittest.TestCase):\n",
        "    # тестовые методы должны начинаться с test\n",
        "    def test_upper(self):\n",
        "        self.assertEqual('foo'.upper(), 'FOO')\n",
        "\n",
        "    def test_isupper(self):\n",
        "        self.assertTrue('FOO'.isupper())\n",
        "        self.assertFalse('Foo'.isupper())\n",
        "\n",
        "    def test_split(self):\n",
        "        s = 'hello world'\n",
        "        self.assertEqual(s.split(), ['hello', 'world'])\n",
        "        # Проверим, что s.split не работает, если разделитель - не строка\n",
        "        with self.assertRaises(TypeError):\n",
        "            s.split(2)\n",
        "\n",
        "if __name__ == '__main__':\n",
        "\n",
        "    unittest.main()"
      ]
    },
    {
      "cell_type": "markdown",
      "metadata": {
        "id": "mog3hr4KnXcN"
      },
      "source": [
        "#### Опаньки...\n",
        "\n",
        "А что случилось?\n",
        "\n",
        ">The reason is that `unittest.main` looks at **sys.argv** and first parameter is what started IPython or Jupyter, therefore the error about kernel connection file not being a valid attribute. Passing explicit list to `unittest.main` will prevent IPython and Jupyter look at **sys.argv**. Passing **exit=False** will prevent unittest.main to shutdown the kernell process\n",
        "\n",
        "Сохраним имеющийся код тестирования в файл (понадобится позже):"
      ]
    },
    {
      "cell_type": "code",
      "execution_count": 2,
      "metadata": {
        "id": "L0_obpFHnXcN"
      },
      "outputs": [],
      "source": [
        "def dump_to(path):\n",
        "    with open(path, 'w') as f:\n",
        "        f.write(_i)  # _i это \"последний выполненный Input\" в iPython\n",
        "\n",
        "dump_to('strings.py')"
      ]
    },
    {
      "cell_type": "markdown",
      "metadata": {
        "id": "38nal_QRnXcO"
      },
      "source": [
        "Cкорректируем код наших тестов:"
      ]
    },
    {
      "cell_type": "code",
      "execution_count": null,
      "metadata": {
        "id": "FfyoOD45nXcO"
      },
      "outputs": [],
      "source": [
        "class TestStringMethods(unittest.TestCase):\n",
        "    # тестовые методы должны начинаться с test\n",
        "    def test_upper(self):\n",
        "        self.assertEqual('foo'.upper(), 'FOO')\n",
        "\n",
        "    def test_isupper(self):\n",
        "        self.assertTrue('FOO'.isupper())\n",
        "        self.assertFalse('Foo'.isupper())\n",
        "\n",
        "    def test_split(self):\n",
        "        s = 'hello world'\n",
        "        self.assertEqual(s.split(), ['hello', 'world'])\n",
        "        # Проверим, что s.split не работает, если разделитель - не строка\n",
        "        with self.assertRaises(TypeError):\n",
        "            s.split(2)\n",
        "\n",
        "if __name__ == '__main__':\n",
        "\n",
        "    unittest.main(argv=['first-arg-is-ignored'], exit=False)"
      ]
    },
    {
      "cell_type": "markdown",
      "metadata": {
        "id": "esi8LflFnXcO"
      },
      "source": [
        "## Интерфейс командной строки\n",
        "\n",
        "Можем тестировать отдельный модуль, класс или метод:"
      ]
    },
    {
      "cell_type": "code",
      "execution_count": 3,
      "metadata": {
        "id": "8qHhMgAgnXcP",
        "outputId": "3033a478-c2f5-4d0c-bec9-9f0b4c344675",
        "colab": {
          "base_uri": "https://localhost:8080/"
        }
      },
      "outputs": [
        {
          "output_type": "stream",
          "name": "stdout",
          "text": [
            "...\n",
            "----------------------------------------------------------------------\n",
            "Ran 3 tests in 0.000s\n",
            "\n",
            "OK\n",
            "...\n",
            "----------------------------------------------------------------------\n",
            "Ran 3 tests in 0.001s\n",
            "\n",
            "OK\n",
            ".\n",
            "----------------------------------------------------------------------\n",
            "Ran 1 test in 0.003s\n",
            "\n",
            "OK\n"
          ]
        }
      ],
      "source": [
        "!python3 -m unittest strings                               # модуль\n",
        "!python3 -m unittest strings.TestStringMethods             # класс\n",
        "!python3 -m unittest strings.TestStringMethods.test_split  # метод"
      ]
    },
    {
      "cell_type": "markdown",
      "metadata": {
        "id": "oXTfF4junXcP"
      },
      "source": [
        "С помощью флага *-v* можно получить более детальный отчёт"
      ]
    },
    {
      "cell_type": "code",
      "execution_count": 4,
      "metadata": {
        "id": "xjIy2ev1nXcP",
        "outputId": "8e9ee9cf-a152-4ebb-ca32-50816f4c397e",
        "colab": {
          "base_uri": "https://localhost:8080/"
        }
      },
      "outputs": [
        {
          "output_type": "stream",
          "name": "stdout",
          "text": [
            "test_isupper (strings.TestStringMethods) ... ok\n",
            "test_split (strings.TestStringMethods) ... ok\n",
            "test_upper (strings.TestStringMethods) ... ok\n",
            "\n",
            "----------------------------------------------------------------------\n",
            "Ran 3 tests in 0.001s\n",
            "\n",
            "OK\n"
          ]
        }
      ],
      "source": [
        "#:\n",
        "!python3 -m unittest -v strings"
      ]
    },
    {
      "cell_type": "markdown",
      "metadata": {
        "id": "L6wkUlzAnXcP"
      },
      "source": [
        "Ещё флаги:\n",
        "- **-b (--buffer)** - вывод программы при провале теста будет показан, а не скрыт, как обычно.\n",
        "- **-c (--catch)** - Ctrl+C ожидает завершения текущего теста и сообщает текущие результаты, второе нажатие - обычное поведение.\n",
        "- **-f (--failfast)** - выход после первого же неудачного теста.\n",
        "- **--locals** (начиная с Python 3.5) - показывать локальные переменные для провалившихся тестов."
      ]
    },
    {
      "cell_type": "markdown",
      "metadata": {
        "id": "LhOzQGG6nXcP"
      },
      "source": [
        "## Обнаружение тестов\n",
        "\n",
        "`unittest` поддерживает простое обнаружение тестов. Для совместимости с обнаружением тестов все файлы тестов должны быть модулями или пакетами, импортируемыми из директории верхнего уровня проекта ([см. подробнее о правилах наименования модулей](https://pythonworld.ru/osnovy/rabota-s-modulyami-sozdanie-podklyuchenie-instrukciyami-import-i-from.html#id3)).\n",
        "\n",
        "Обнаружение тестов реализовано в `TestLoader.discover()`, но может быть использовано из командной строки:"
      ]
    },
    {
      "cell_type": "code",
      "execution_count": null,
      "metadata": {
        "id": "l06ACKpSnXcQ"
      },
      "outputs": [],
      "source": [
        "!mv strings.py test_strings.py  #чтобы сработало переименуем модуль в test....py\n",
        "!python3 -m unittest discover"
      ]
    },
    {
      "cell_type": "markdown",
      "metadata": {
        "id": "vMjN2AQrnXcQ"
      },
      "source": [
        "## Организация тестового кода\n",
        "\n",
        "Создадим класс, который будем тестировать:"
      ]
    },
    {
      "cell_type": "code",
      "execution_count": 5,
      "metadata": {
        "id": "ToX14yaEnXcQ"
      },
      "outputs": [],
      "source": [
        "class Widget():\n",
        "    def __init__(self, name, x = 50, y = 50):\n",
        "        self.name = name\n",
        "        self.x = x\n",
        "        self.y = y\n",
        "\n",
        "    def size(self):\n",
        "        return (self.x, self.y)\n",
        "\n",
        "    def resize(self, size):\n",
        "        (self.x, self.y) = size"
      ]
    },
    {
      "cell_type": "markdown",
      "metadata": {
        "id": "G6N3v4UGnXcQ"
      },
      "source": [
        "Базовые блоки тестирования это **тестовые случаи** - простые случаи, которые должны быть проверены на корректность.\n",
        "\n",
        "Тестовый случай создаётся путём наследования от unittest.TestCase.\n",
        "\n",
        "Тестирующий код должен быть самостоятельным, то есть никак не зависеть от других тестов.\n",
        "\n",
        "Простейший подкласс **TestCase** может просто реализовывать тестовый метод (метод, начинающийся с test)"
      ]
    },
    {
      "cell_type": "code",
      "execution_count": null,
      "metadata": {
        "id": "nCW99HVXnXcQ"
      },
      "outputs": [],
      "source": [
        "class DefaultWidgetSizeTestCase(unittest.TestCase):\n",
        "    def test_default_widget_size(self):\n",
        "        widget = Widget('The widget')\n",
        "        self.assertEqual(widget.size(), (50, 50))\n",
        "\n",
        "if __name__ == '__main__':\n",
        "\n",
        "    unittest.main(argv=['',], defaultTest='DefaultWidgetSizeTestCase', exit=False)"
      ]
    },
    {
      "cell_type": "markdown",
      "metadata": {
        "id": "7Khd9GiUnXcQ"
      },
      "source": [
        "Тестов может быть много, и часть кода настройки может повторяться. К счастью, мы можем определить код настройки путём реализации метода `setUp()`, который будет запускаться **перед каждым тестом**.\n",
        "\n",
        "Мы также можем определить метод `tearDown()`, который будет запускаться **после каждого теста**."
      ]
    },
    {
      "cell_type": "code",
      "execution_count": null,
      "metadata": {
        "id": "V6KO74qJnXcR"
      },
      "outputs": [],
      "source": [
        "class SimpleWidgetTestCase(unittest.TestCase):\n",
        "    def setUp(self):\n",
        "        #когда:\n",
        "        self.widget = Widget('The widget')\n",
        "\n",
        "    def test_default_widget_size(self):\n",
        "        self.assertEqual(self.widget.size(), (50,50),\n",
        "                         'incorrect default size')\n",
        "\n",
        "    def test_widget_resize(self):\n",
        "        #при действии:\n",
        "        self.widget.resize(100,150)\n",
        "        #происходит...\n",
        "        self.assertEqual(self.widget.size(), (100,150),\n",
        "                         'wrong size after resize')\n",
        "\n",
        "    def test(self):\n",
        "        #когда:\n",
        "\n",
        "        #при действии:\n",
        "\n",
        "        #происходит...\n",
        "\n",
        "\n",
        "\n",
        "\n",
        "    def tearDown(self):\n",
        "        pass\n",
        "\n",
        "if __name__ == '__main__':\n",
        "    unittest.main(argv=['',], defaultTest='SimpleWidgetTestCase', exit=False)"
      ]
    },
    {
      "cell_type": "markdown",
      "metadata": {
        "id": "jxM7fQgwnXcR"
      },
      "source": [
        "Можно разместить все тесты в том же файле, что и сама программа (таком как *widgets.py*), но размещение тестов в отдельном файле (таком как *test_widget.py*) имеет много преимуществ:\n",
        "\n",
        "- Модуль с тестом может быть запущен автономно из командной строки.\n",
        "- Тестовый код может быть легко отделён от программы.\n",
        "- Меньше искушения изменить тесты для соответствия коду программы без видимой причины.\n",
        "- Тестовый код должен изменяться гораздо реже, чем программа.\n",
        "- Протестированный код может быть легче переработан.\n",
        "- Тесты для модулей на C должны быть в отдельных модулях, так почему же не быть последовательным?\n",
        "- Если стратегия тестирования изменяется, нет необходимости изменения кода программы."
      ]
    },
    {
      "cell_type": "markdown",
      "metadata": {
        "id": "RKu5hdolnXcR"
      },
      "source": [
        "## Пропуск тестов и ожидаемые ошибки\n",
        "\n",
        "`unittest` поддерживает пропуск отдельных тестов, а также классов тестов. Вдобавок, поддерживается пометка теста как *\"не работает, но так и надо\"*.\n",
        "\n",
        "Пропуск теста осуществляется использованием декоратора `skip()` или одного из его условных вариантов:"
      ]
    },
    {
      "cell_type": "code",
      "execution_count": null,
      "metadata": {
        "id": "UrkuxslPnXcR"
      },
      "outputs": [],
      "source": [
        "__version__ = (0, 9)\n",
        "platform = \"ubuntu\"\n",
        "\n",
        "\n",
        "class MyTestCase(unittest.TestCase):\n",
        "    @unittest.skip(\"demonstrating skipping\")\n",
        "    def test_nothing(self):\n",
        "        self.fail(\"shouldn't happen\")\n",
        "\n",
        "    @unittest.skipIf(__version__ < (1, 3), \"not supported in this library version\")\n",
        "    def test_format(self):\n",
        "        # Tests that work for only a certain version of the library.\n",
        "        pass\n",
        "\n",
        "    @unittest.skipUnless(platform.startswith(\"win\"), \"requires Windows\")\n",
        "    def test_windows_support(self):\n",
        "        # windows specific testing code\n",
        "        pass\n",
        "\n",
        "if __name__ == '__main__':\n",
        "    unittest.main(argv=['','-v'], defaultTest='MyTestCase', exit=False)"
      ]
    },
    {
      "cell_type": "markdown",
      "metadata": {
        "id": "7KvocEpEnXcS"
      },
      "source": [
        "Классы также могут быть пропущены:"
      ]
    },
    {
      "cell_type": "code",
      "execution_count": null,
      "metadata": {
        "id": "W5AxSP6tnXcS"
      },
      "outputs": [],
      "source": [
        "@unittest.skip(\"showing class skipping\")\n",
        "class MySkippedTestCase(unittest.TestCase):\n",
        "    def test_not_run(self):\n",
        "        pass\n",
        "\n",
        "if __name__ == '__main__':\n",
        "\n",
        "    unittest.main(argv=['','-v'], defaultTest='MySkippedTestCase', exit=False)"
      ]
    },
    {
      "cell_type": "markdown",
      "metadata": {
        "id": "RdTaIzNfnXcS"
      },
      "source": [
        "Тесты, в которых ожидаются ошибки, используют декоратор `expectedFailure()`:"
      ]
    },
    {
      "cell_type": "code",
      "execution_count": null,
      "metadata": {
        "id": "GakcM6fsnXcS"
      },
      "outputs": [],
      "source": [
        "class ExpectedFailureTestCase(unittest.TestCase):\n",
        "    @unittest.expectedFailure\n",
        "    def test_fail(self):\n",
        "        self.assertEqual(1, 0, \"broken\")\n",
        "\n",
        "if __name__ == '__main__':\n",
        "    unittest.main(argv=['','-v'], defaultTest='ExpectedFailureTestCase', exit=False)"
      ]
    },
    {
      "cell_type": "markdown",
      "metadata": {
        "id": "b0pDPOiTnXcT"
      },
      "source": [
        "Очень просто сделать свой декоратор. Например, следующий декоратор пропускает тест, если переданный объект не имеет указанного атрибута:"
      ]
    },
    {
      "cell_type": "code",
      "execution_count": null,
      "metadata": {
        "id": "pbfhKNM6nXcT"
      },
      "outputs": [],
      "source": [
        "obj1 = [1, 2, 3]\n",
        "\n",
        "def skipUnlessHasattr(obj, attr):\n",
        "    if hasattr(obj, attr):\n",
        "        return lambda func: func\n",
        "    return unittest.skip(f\"{obj} doesn't have {attr}\")\n",
        "\n",
        "class YetAnotherTestCase(unittest.TestCase):\n",
        "    @skipUnlessHasattr(obj1,'add')\n",
        "    def test_fail(self):\n",
        "        pass\n",
        "\n",
        "if __name__ == '__main__':\n",
        "    unittest.main(argv=['','-v'], defaultTest='YetAnotherTestCase', exit=False)"
      ]
    },
    {
      "cell_type": "markdown",
      "metadata": {
        "id": "ksHdCHZDnXcT"
      },
      "source": [
        "**Замечание** - для пропущенных тестов не запускаются `setUp()` и `tearDown()`, для пропущенных классов не запускаются `setUpClass()` и `tearDownClass()`, для пропущенных модулей не запускаются `setUpModule()` и `tearDownModule()`."
      ]
    },
    {
      "cell_type": "markdown",
      "metadata": {
        "id": "UUqVTreWnXcT"
      },
      "source": [
        "Эй, а что ещё за `setUpClass()` и `setUpModule()`?"
      ]
    },
    {
      "cell_type": "code",
      "execution_count": null,
      "metadata": {
        "id": "4MX0l4GtnXcT"
      },
      "outputs": [],
      "source": [
        "import unittest\n",
        "\n",
        "class Test(unittest.TestCase):\n",
        "    @classmethod\n",
        "    def setUpClass(cls):\n",
        "        cls._connection = createExpensiveConnectionObject()\n",
        "\n",
        "    @classmethod\n",
        "    def tearDownClass(cls):\n",
        "        cls._connection.destroy()\n",
        "\n",
        "\n",
        "#These should be implemented as functions:\n",
        "def setUpModule():\n",
        "    createConnection()\n",
        "\n",
        "def tearDownModule():\n",
        "    closeConnection()\n",
        "\n",
        "del setUpModule\n",
        "del tearDownModule"
      ]
    },
    {
      "cell_type": "markdown",
      "metadata": {
        "id": "ieGBR2ffnXcT"
      },
      "source": [
        "## Различение итераций теста с помощью подтестов\n",
        "\n",
        "Когда некоторые тесты имеют лишь незначительные отличия, например некоторые параметры, `unittest` позволяет различать их внутри одного тестового метода, используя менеджер контекста `subTest()`:"
      ]
    },
    {
      "cell_type": "code",
      "execution_count": null,
      "metadata": {
        "id": "bidY5u5bnXcU"
      },
      "outputs": [],
      "source": [
        "class NumbersTest(unittest.TestCase):\n",
        "    def test_even(self):\n",
        "        \"\"\"Test that numbers between 0 and 3 are all even\"\"\"\n",
        "        for i in range(0, 4):\n",
        "            with self.subTest(i=i):\n",
        "                self.assertEqual(i % 2, 0)\n",
        "\n",
        "unittest.main(argv=['','-v'], defaultTest='NumbersTest', exit=False)"
      ]
    },
    {
      "cell_type": "markdown",
      "metadata": {
        "id": "sKHkT5cHnXcY"
      },
      "source": [
        "Можем кастомизировать запуск имеющихся тестов:"
      ]
    },
    {
      "cell_type": "code",
      "execution_count": null,
      "metadata": {
        "id": "My7j6Q6UnXcY"
      },
      "outputs": [],
      "source": [
        "def MySuite():\n",
        "    suite = unittest.TestSuite()\n",
        "    suite.addTest(SimpleWidgetTestCase('test_default_widget_size'))\n",
        "    suite.addTest(SimpleWidgetTestCase('test_widget_resize'))\n",
        "    suite.addTest(NumbersTest('test_even'))\n",
        "    suite.addTest(YetAnotherTestCase('test_fail'))\n",
        "    return suite\n",
        "\n",
        "if __name__ == '__main__':\n",
        "    runner = unittest.TextTestRunner(verbosity=2)\n",
        "    runner.run(MySuite())"
      ]
    },
    {
      "cell_type": "markdown",
      "metadata": {
        "id": "KAYA_ue8nXcZ"
      },
      "source": [
        "## Проверки на успешность\n",
        "\n",
        "Модуль unittest предоставляет множество функций для самых различных проверок:\n",
        "\n",
        "- `assertEqual(a, b)` — `a == b`\n",
        "- `assertNotEqual(a, b)` — `a != b`\n",
        "- `assertTrue(x)` — `bool(x) is True`\n",
        "- `assertFalse(x)` — `bool(x) is False`\n",
        "- `assertIs(a, b)` — `a is b`\n",
        "- `assertIsNot(a, b)` — `a is not b`\n",
        "- `assertIsNone(x)` — `x is None`\n",
        "- `assertIsNotNone(x)` — `x is not None`\n",
        "- `assertIn(a, b)` — `a in b`\n",
        "- `assertNotIn(a, b)` — `a not in b`\n",
        "- `assertCountEqual(a, b)` — `a` и `b` содержат те же элементы в одинаковых количествах, но порядок не важен"
      ]
    },
    {
      "cell_type": "markdown",
      "metadata": {
        "id": "8vxhABwsnXcZ"
      },
      "source": [
        "- `assertIsInstance(a, b)` — `isinstance(a, b)`\n",
        "- `assertNotIsInstance(a, b)` — `not isinstance(a, b)`\n",
        "- `assertRaises(exc, fun, *args, **kwds)` — `fun(*args, **kwds)` порождает исключение exc\n",
        "- `assertRaisesRegex(exc, r, fun, *args, **kwds)` — `fun(*args, **kwds)` порождает исключение `exc` и сообщение соответствует регулярному выражению `r`\n",
        "- `assertWarns(warn, fun, *args, **kwds)` — `fun(*args, **kwds)` порождает предупреждение\n",
        "- `assertWarnsRegex(warn, r, fun, *args, **kwds)` — `fun(*args, **kwds)` порождает предупреждение и сообщение соответствует регулярному выражению `r`\n",
        "- `assertAlmostEqual(a, b)` — `round(a-b, 7) == 0`\n",
        "- `assertNotAlmostEqual(a, b)` — `round(a-b, 7) != 0`\n",
        "- `assertGreater(a, b)` — `a > b`\n",
        "- `assertGreaterEqual(a, b)` — `a >= b`\n",
        "- `assertLess(a, b)` — `a < b`\n",
        "- `assertLessEqual(a, b)` — `a <= b`\n",
        "- `assertRegex(s, r)` — `r.search(s)`\n",
        "- `assertNotRegex(s, r)` — `not r.search(s)`"
      ]
    }
  ],
  "metadata": {
    "celltoolbar": "Слайд-шоу",
    "kernelspec": {
      "display_name": "Python 3 (ipykernel)",
      "language": "python",
      "name": "python3"
    },
    "language_info": {
      "codemirror_mode": {
        "name": "ipython",
        "version": 3
      },
      "file_extension": ".py",
      "mimetype": "text/x-python",
      "name": "python",
      "nbconvert_exporter": "python",
      "pygments_lexer": "ipython3",
      "version": "3.9.5"
    },
    "colab": {
      "provenance": []
    }
  },
  "nbformat": 4,
  "nbformat_minor": 0
}